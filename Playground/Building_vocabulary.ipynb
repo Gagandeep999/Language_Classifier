{
 "cells": [
  {
   "cell_type": "code",
   "execution_count": null,
   "metadata": {},
   "outputs": [],
   "source": [
    "import pandas as pd\n",
    "import re\n",
    "from collections import defaultdict"
   ]
  },
  {
   "cell_type": "code",
   "execution_count": null,
   "metadata": {},
   "outputs": [],
   "source": [
    "df = pd.read_csv('../OriginalDataSet/training-tweets.txt', encoding='utf-8', error_bad_lines=False, sep='\\t', nrows=10000)\n",
    "df.columns = ['TweetID', 'UserID', 'Language', \"Tweet\"]"
   ]
  },
  {
   "cell_type": "code",
   "execution_count": null,
   "metadata": {},
   "outputs": [],
   "source": [
    "df.head()"
   ]
  },
  {
   "cell_type": "markdown",
   "metadata": {},
   "source": [
    "## Prepare Training Data"
   ]
  },
  {
   "cell_type": "markdown",
   "metadata": {},
   "source": [
    "#### 0 Fold the corpus to lowercase and use only the 26 letters of the alphabet [a-z]"
   ]
  },
  {
   "cell_type": "code",
   "execution_count": null,
   "metadata": {},
   "outputs": [],
   "source": [
    "_df0 = df[['Language', 'Tweet']].copy()\n",
    "pattern = re.compile('[a-z ]')\n",
    "_df0.head()"
   ]
  },
  {
   "cell_type": "code",
   "execution_count": null,
   "metadata": {},
   "outputs": [],
   "source": [
    "trainDict = defaultdict(list)\n",
    "for index, row in _df0.iterrows():\n",
    "    sentence = ''\n",
    "    tweet = row['Tweet']\n",
    "    tweet = tweet.lower()\n",
    "    for letter in tweet:\n",
    "        if pattern.match(letter):\n",
    "            sentence = sentence + letter\n",
    "    trainDict[row['Language']].append(sentence)"
   ]
  },
  {
   "cell_type": "code",
   "execution_count": null,
   "metadata": {},
   "outputs": [],
   "source": [
    "print(trainDict.keys())"
   ]
  },
  {
   "cell_type": "markdown",
   "metadata": {},
   "source": [
    "#### 1 Distinguish up and low cases and use only the 26 letters of the alphabet [a-z, A-Z]"
   ]
  },
  {
   "cell_type": "code",
   "execution_count": null,
   "metadata": {},
   "outputs": [],
   "source": [
    "_df0 = df[['Language', 'Tweet']].copy()\n",
    "pattern = re.compile('[a-zA-Z ]')\n",
    "_df0.head()"
   ]
  },
  {
   "cell_type": "code",
   "execution_count": null,
   "metadata": {},
   "outputs": [],
   "source": [
    "trainDict = defaultdict(list)\n",
    "for index, row in _df0.iterrows():\n",
    "    sentence = ''\n",
    "    tweet = row['Tweet']\n",
    "#     tweet = tweet.lower()\n",
    "    for letter in tweet:\n",
    "        if pattern.match(letter):\n",
    "            sentence = sentence + letter\n",
    "    trainDict[row['Language']].append(sentence)"
   ]
  },
  {
   "cell_type": "code",
   "execution_count": null,
   "metadata": {},
   "outputs": [],
   "source": [
    "print(trainDict)"
   ]
  },
  {
   "cell_type": "markdown",
   "metadata": {},
   "source": [
    "#### 2 Distinguish up and low cases and use all characters accepted by the built-in isalpha()"
   ]
  },
  {
   "cell_type": "code",
   "execution_count": null,
   "metadata": {},
   "outputs": [],
   "source": [
    "_df0 = df[['Language', 'Tweet']].copy()\n",
    "pattern = re.compile('[ ]')\n",
    "_df0.head()"
   ]
  },
  {
   "cell_type": "code",
   "execution_count": null,
   "metadata": {},
   "outputs": [],
   "source": [
    "trainDict = defaultdict(list)\n",
    "enAlphabets = {}\n",
    "enSize = 0\n",
    "esAlphabets = {}\n",
    "esSize = 0\n",
    "euAlphabets = {}\n",
    "euSize = 0\n",
    "caAlphabets = {}\n",
    "caSize = 0\n",
    "ptAlphabets = {}\n",
    "ptSize = 0\n",
    "glAlphabets = {}\n",
    "glSize = 0\n",
    "for index, row in _df0.iterrows():\n",
    "    sentence = ''\n",
    "    tweet = row['Tweet']\n",
    "    language = row['Tweet']\n",
    "    if 'en' in language:\n",
    "        for letter in tweet:\n",
    "            if letter.isalpha():# or pattern.match(letter):\n",
    "                if letter not in enAlphabets.keys():\n",
    "                    enAlphabets[letter] = enSize\n",
    "                    enSize += 1\n",
    "                sentence = sentence + letter\n",
    "    elif 'es' in language:\n",
    "        for letter in tweet:\n",
    "            if letter.isalpha():# or pattern.match(letter):\n",
    "                if letter not in esAlphabets.keys():\n",
    "                    esAlphabets[letter] = esSize\n",
    "                    esSize += 1\n",
    "                sentence = sentence + letter\n",
    "    elif 'eu' in language:\n",
    "        for letter in tweet:\n",
    "            if letter.isalpha():# or pattern.match(letter):\n",
    "                if letter not in euAlphabets.keys():\n",
    "                    euAlphabets[letter] = euSize\n",
    "                    euSize += 1\n",
    "                sentence = sentence + letter\n",
    "    elif 'ca' in language:\n",
    "        for letter in tweet:\n",
    "            if letter.isalpha():# or pattern.match(letter):\n",
    "                if letter not in caAlphabets.keys():\n",
    "                    caAlphabets[letter] = caSize\n",
    "                    caSize += 1\n",
    "                sentence = sentence + letter\n",
    "    elif 'pt' in language:\n",
    "        for letter in tweet:\n",
    "            if letter.isalpha():# or pattern.match(letter):\n",
    "                if letter not in ptAlphabets.keys():\n",
    "                    ptAlphabets[letter] = ptSize\n",
    "                    ptSize += 1\n",
    "                sentence = sentence + letter\n",
    "    elif 'gl' in language:\n",
    "        for letter in tweet:\n",
    "            if letter.isalpha():# or pattern.match(letter):\n",
    "                if letter not in glAlphabets.keys():\n",
    "                    glAlphabets[letter] = glSize\n",
    "                    glSize += 1\n",
    "                sentence = sentence + letter\n",
    "    trainDict[row['Language']].append(sentence)"
   ]
  },
  {
   "cell_type": "code",
   "execution_count": null,
   "metadata": {},
   "outputs": [],
   "source": [
    "lang = ['en', 'es', 'eu', 'ca', 'pt', 'gl']\n",
    "for each in lang:\n",
    "    print(each.upper())\n",
    "    exec ('print({0}Size)'.format(each))\n",
    "    exec ('print({0}Alphabets)'.format(each))\n",
    "print(trainDict)"
   ]
  },
  {
   "cell_type": "code",
   "execution_count": null,
   "metadata": {},
   "outputs": [],
   "source": []
  }
 ],
 "metadata": {
  "kernelspec": {
   "display_name": "Python 3",
   "language": "python",
   "name": "python3"
  },
  "language_info": {
   "codemirror_mode": {
    "name": "ipython",
    "version": 3
   },
   "file_extension": ".py",
   "mimetype": "text/x-python",
   "name": "python",
   "nbconvert_exporter": "python",
   "pygments_lexer": "ipython3",
   "version": "3.7.4"
  }
 },
 "nbformat": 4,
 "nbformat_minor": 2
}
