{
 "cells": [
  {
   "cell_type": "code",
   "execution_count": null,
   "metadata": {},
   "outputs": [],
   "source": [
    "from collections import defaultdict\n",
    "import math\n",
    "import pandas as pd\n",
    "import re\n",
    "from datetime import datetime \n",
    "import numpy as np\n",
    "from decimal import Decimal\n",
    "import matplotlib.pyplot as plt\n",
    "import pylab\n",
    "\n",
    "print('numpy: ',np.version.version)\n",
    "print('pandas: ',pd.__version__)\n",
    "languages = ['en', 'es', 'eu', 'ca', 'pt', 'gl']"
   ]
  },
  {
   "cell_type": "code",
   "execution_count": null,
   "metadata": {},
   "outputs": [],
   "source": [
    "df = pd.read_csv('../OriginalDataSet/training-tweets.txt', encoding='utf-8', error_bad_lines=False, sep='\\t', nrows=18000)\n",
    "df.columns = ['TweetID', 'UserID', 'Language', \"Tweet\"]"
   ]
  },
  {
   "cell_type": "code",
   "execution_count": null,
   "metadata": {},
   "outputs": [],
   "source": [
    "_df0 = df[['Language', 'Tweet']].copy()\n",
    "pattern = re.compile('[ ]')\n",
    "# _df0.head()\n",
    "\n",
    "for language in languages:\n",
    "    exec(\"%sAlphabets={}\" % (language))\n",
    "    exec ('{0}Size = 0'.format(language))"
   ]
  },
  {
   "cell_type": "code",
   "execution_count": null,
   "metadata": {},
   "outputs": [],
   "source": [
    "start_time = datetime.now() \n",
    "trainDict = defaultdict(list)\n",
    "for index, row in _df0.iterrows():\n",
    "    sentence = ''\n",
    "    tweet = row['Tweet']\n",
    "    language = row['Language']\n",
    "    for letter in tweet:\n",
    "        if letter.isalpha() or pattern.match(letter):\n",
    "            exec('if \\'{let}\\' not in {lang}Alphabets.keys():\\n\\\n",
    "                     {lang}Alphabets[letter] = {lang}Size\\n\\\n",
    "                     {lang}Size += 1'.format(let=letter, lang=language))#, language, language, language))\n",
    "            sentence = sentence + letter\n",
    "    trainDict[row['Language']].append(sentence)\n",
    "print('Reading time (hh:mm:ss.ms) {}'.format(datetime.now() - start_time ))"
   ]
  },
  {
   "cell_type": "code",
   "execution_count": null,
   "metadata": {},
   "outputs": [],
   "source": [
    "for language in languages:\n",
    "    exec('{lang}Model=np.zeros(shape=(({lang}Size+1),({lang}Size+1),({lang}Size+1)))'.format(lang=language))#, language, language, language))"
   ]
  },
  {
   "cell_type": "markdown",
   "metadata": {},
   "source": [
    "#### For Bigrams"
   ]
  },
  {
   "cell_type": "code",
   "execution_count": null,
   "metadata": {},
   "outputs": [],
   "source": [
    "# start_time = datetime.now()\n",
    "# delta = 0.5\n",
    "# for language, tweets in trainDict.items():\n",
    "#     for tweet in tweets:\n",
    "#         for i in range(len(tweet)-2):\n",
    "#             first = tweet[i]\n",
    "#             second = tweet[i+1]\n",
    "#             exec('firstIndex = %sAlphabets[first]'%(language))\n",
    "#             exec('secondIndex = %sAlphabets[second]'%(language))\n",
    "#             exec('%sModel[firstIndex][secondIndex] += 1'%(language))\n",
    "# for language in languages:\n",
    "#     exec('%sModel = np.add(%sModel, delta)'%(language, language)) #this is where smoothing happens\n",
    "#     exec('%sModelFinal = %sModel/%sModel.sum(axis=1)'%(language, language, language)) #divide all the values by the sum of the row\n",
    "#     exec('%sModelFinal = np.log10(%sModelFinal)'%(language, language))\n",
    "# print('Training time (hh:mm:ss.ms) {}'.format(datetime.now() - start_time ))"
   ]
  },
  {
   "cell_type": "code",
   "execution_count": null,
   "metadata": {},
   "outputs": [],
   "source": [
    "print(enAlphabets)\n",
    "print('EN',enModel, enModel.shape)\n",
    "# print(trainDict)"
   ]
  },
  {
   "cell_type": "code",
   "execution_count": null,
   "metadata": {},
   "outputs": [],
   "source": [
    "# trainDict = {'en': ['this is a boy']}\n",
    "# enModel[24][29][31]"
   ]
  },
  {
   "cell_type": "markdown",
   "metadata": {},
   "source": [
    "#### For Trigrams"
   ]
  },
  {
   "cell_type": "code",
   "execution_count": null,
   "metadata": {},
   "outputs": [],
   "source": [
    "start_time = datetime.now()\n",
    "delta = 0.5\n",
    "for language, tweets in trainDict.items():\n",
    "    for tweet in tweets:\n",
    "        for i in range(len(tweet)-2):\n",
    "            first = tweet[i]\n",
    "            second = tweet[i+1]\n",
    "            third = tweet[i+2]\n",
    "            exec('firstIndex = %sAlphabets[first]'%(language))\n",
    "            exec('secondIndex = %sAlphabets[second]'%(language))\n",
    "            exec('thirdIndex = %sAlphabets[third]'%(language))\n",
    "            exec('%sModel[firstIndex][secondIndex][thirdIndex] += 1'%(language))\n",
    "            \n",
    "for language in languages:\n",
    "    exec('for x in range({lang}Model.shape[0]):\\n\\\n",
    "    for y in range({lang}Model.shape[0]):\\n\\\n",
    "        sumCol = 0\\n\\\n",
    "        for z in range({lang}Model.shape[0]):\\n\\\n",
    "            {lang}Model[x][y][z] += delta\\n\\\n",
    "            sumCol += {lang}Model[x][y][z]\\n\\\n",
    "        for z in range({lang}Model.shape[0]):\\n\\\n",
    "            {lang}Model[x][y][z] /= sumCol\\n\\\n",
    "                \\n\\\n",
    "{lang}Model = np.log10({lang}Model)'.format(lang=language))\n",
    "\n",
    "print('Training time (hh:mm:ss.ms) {}'.format(datetime.now() - start_time ))"
   ]
  },
  {
   "cell_type": "code",
   "execution_count": null,
   "metadata": {},
   "outputs": [],
   "source": [
    "start_time = datetime.now()\n",
    "delta = 0.5\n",
    "for language, tweets in trainDict.items():\n",
    "    for tweet in tweets:\n",
    "        for i in range(len(tweet)-2):\n",
    "            first = tweet[i]\n",
    "            second = tweet[i+1]\n",
    "            third = tweet[i+2]\n",
    "            exec('firstIndex = %sAlphabets[first]'%(language))\n",
    "            exec('secondIndex = %sAlphabets[second]'%(language))\n",
    "            exec('thirdIndex = %sAlphabets[third]'%(language))\n",
    "            exec('%sModel[firstIndex][secondIndex][thirdIndex] += 1'%(language))\n",
    "            \n",
    "for language in languages:\n",
    "    exec('for x in range({lang}Model.shape[0]):\\n\\\n",
    "    for y in range({lang}Model.shape[1]):\\n\\\n",
    "        sumCol = 0\\n\\\n",
    "        for z in range({lang}Model.shape[0]):\\n\\\n",
    "            {lang}Model[x][y][z] += delta\\n\\\n",
    "            sumCol += {lang}Model[x][y][z]\\n\\\n",
    "        for z in range({lang}Model.shape[0]):\\n\\\n",
    "            {lang}Model[x][y][z] /= sumCol\\n\\\n",
    "                \\n\\\n",
    "{lang}Model = np.log10({lang}Model)'.format(lang=language))\n",
    "\n",
    "print('Training time (hh:mm:ss.ms) {}'.format(datetime.now() - start_time ))"
   ]
  },
  {
   "cell_type": "code",
   "execution_count": null,
   "metadata": {},
   "outputs": [],
   "source": [
    "print(enModel, file=open(\"enModel.txt\", \"a\"))"
   ]
  },
  {
   "cell_type": "markdown",
   "metadata": {},
   "source": [
    "## Testing the models"
   ]
  },
  {
   "cell_type": "code",
   "execution_count": null,
   "metadata": {},
   "outputs": [],
   "source": [
    "df = pd.read_csv('../OriginalDataSet/test-tweets.txt', encoding='utf-8', error_bad_lines=False, sep='\\t')#, nrows=1000)\n",
    "df.columns = ['TweetID', 'UserID', 'Language', \"Tweet\"]\n",
    "_df0 = df[['TweetID', 'Language', 'Tweet']].copy()\n",
    "# pattern = re.compile('[a-z ]')\n",
    "# _df0.head()"
   ]
  },
  {
   "cell_type": "code",
   "execution_count": null,
   "metadata": {},
   "outputs": [],
   "source": [
    "probability = {}\n",
    "for index, row in _df0.iterrows():\n",
    "    for language in languages:\n",
    "        exec(\"%sProb=math.log10(1/6)\" % (language))\n",
    "    tweetID = row['TweetID']\n",
    "    langTweet = row['Language']\n",
    "    tweet = row['Tweet']\n",
    "    \n",
    "    for i in range(len(tweet)-2):\n",
    "        first = tweet[i]\n",
    "        second = tweet[i+1]\n",
    "        third = tweet[i+2]\n",
    "        for language in languages:\n",
    "            exec('if ((first not in {lang}Alphabets.keys()) and (second not in {lang}Alphabets.keys()) and (third not in {lang}Alphabets.keys())):\\n\\\n",
    "    prob = {lang}Model[-1][-1][-1]\\n\\\n",
    "elif ( (first not in {lang}Alphabets.keys()) and (second not in {lang}Alphabets.keys()) ):\\n\\\n",
    "    index = {lang}Alphabets[third]\\n\\\n",
    "    prob = {lang}Model[-1][-1][index]\\n\\\n",
    "elif ( (first not in {lang}Alphabets.keys()) and (third not in {lang}Alphabets.keys()) ):\\n\\\n",
    "    index = {lang}Alphabets[second]\\n\\\n",
    "    prob = {lang}Model[-1][index][-1]\\n\\\n",
    "elif ( (second not in {lang}Alphabets.keys()) and (third not in {lang}Alphabets.keys()) ):\\n\\\n",
    "    index = {lang}Alphabets[first]\\n\\\n",
    "    prob = {lang}Model[index][-1][-1]\\n\\\n",
    "elif first not in {lang}Alphabets.keys():\\n\\\n",
    "    secondIndex = {lang}Alphabets[second]\\n\\\n",
    "    thirdIndex = {lang}Alphabets[third]\\n\\\n",
    "    prob = {lang}Model[-1][secondIndex][thirdIndex]\\n\\\n",
    "elif second not in {lang}Alphabets.keys():\\n\\\n",
    "    firstIndex = {lang}Alphabets[first]\\n\\\n",
    "    thirdIndex = {lang}Alphabets[third]\\n\\\n",
    "    prob = {lang}Model[firstIndex][-1][thirdIndex]\\n\\\n",
    "elif third not in {lang}Alphabets.keys():\\n\\\n",
    "    firstIndex = {lang}Alphabets[first]\\n\\\n",
    "    secondIndex = {lang}Alphabets[second]\\n\\\n",
    "    prob = {lang}Model[firstIndex][secondIndex][-1]\\n\\\n",
    "else:\\n\\\n",
    "    firstIndex = {lang}Alphabets[first]\\n\\\n",
    "    secondIndex = {lang}Alphabets[second]\\n\\\n",
    "    thirdIndex = {lang}Alphabets[third]\\n\\\n",
    "    prob = {lang}Model[firstIndex][secondIndex][thirdIndex]\\n\\\n",
    "{lang}Prob = prob + {lang}Prob\\n'.format(lang=language))\n",
    "    for langu in languages:\n",
    "        exec(\"probability['%s'] = %sProb\"%(langu, langu))\n",
    "    result = max(probability, key=probability.get)\n",
    "    print(tweetID, '  ', result, '  ', '%.2E' % Decimal(probability[result]), '  ', langTweet, 'correct' if (langTweet==result) else 'wrong')"
   ]
  },
  {
   "cell_type": "code",
   "execution_count": null,
   "metadata": {},
   "outputs": [],
   "source": []
  },
  {
   "cell_type": "code",
   "execution_count": null,
   "metadata": {},
   "outputs": [],
   "source": []
  },
  {
   "cell_type": "markdown",
   "metadata": {},
   "source": [
    "# Important Stuff"
   ]
  },
  {
   "cell_type": "code",
   "execution_count": null,
   "metadata": {},
   "outputs": [],
   "source": [
    "delta=1\n",
    "B = np.arange(27.0).reshape((3,3,3))\n",
    "print(B)\n",
    "B[0][0][0] = 0\n",
    "B[0][0][1] = 0\n",
    "B[0][0][2] = 0\n",
    "for x in range(B.shape[0]):\n",
    "    for y in range(B.shape[0]):\n",
    "        colSlice = B[x,y,:]\n",
    "        colSlice = np.add(colSlice, delta)\n",
    "        colSlice = colSlice/colSlice.sum()\n",
    "        sumCol = 0\n",
    "        for z in range(B.shape[0]):\n",
    "            sumCol = sumCol + B[x][y][z]\n",
    "#         print('sum for [%d][%d]'%(x,y), sumCol)\n",
    "        if sumCol != 0:\n",
    "            for z in range(B.shape[0]):\n",
    "                B[x][y][z] /= sumCol\n",
    "print(B)"
   ]
  },
  {
   "cell_type": "code",
   "execution_count": null,
   "metadata": {},
   "outputs": [],
   "source": [
    "language = 'en'\n",
    "str = 'for x in range({lang}Model.shape[0]):\\n\\\n",
    "    for y in range({lang}Model.shape[0]):\\n\\\n",
    "        {lang}ModelTemp = {lang}Model[x,y,:]\\n\\\n",
    "        {lang}ModelTemp = np.add({lang}ModelTemp, delta)\\n\\\n",
    "        {lang}ModelTemp = np.divide({lang}ModelTemp, {lang}Model.sum())\\n\\\n",
    "        {lang}ModelTemp = np.log10({lang}ModelTemp)\\n\\\n",
    "        {lang}Model[x,y,:] = {lang}ModelTemp\\n\\\n",
    "{lang}Model = np.log10({lang}Model)'.format(lang=language)\n",
    "print(str)"
   ]
  },
  {
   "cell_type": "code",
   "execution_count": null,
   "metadata": {},
   "outputs": [],
   "source": [
    "lang = 'en'\n",
    "str = 'if ( (not first.isalpha()) and (not second.isalpha()) and (not third.isalpha()) ):\\n\\\n",
    "    prob = 0 \\n\\\n",
    "elif ((first not in {lang}Alphabets.keys()) and (second not in {lang}Alphabets.keys()) and (third not in {lang}Alphabets.keys())):\\n\\\n",
    "    prob = {lang}Model[-1][-1][-1]\\n\\\n",
    "elif ( (first not in {lang}Alphabets.keys()) and (second not in {lang}Alphabets.keys()) ):\\n\\\n",
    "    index = {lang}Alphabets[third]\\n\\\n",
    "    prob = {lang}Model[-1][-1][index]\\n\\\n",
    "elif ( (first not in {lang}Alphabets.keys()) and (third not in {lang}Alphabets.keys()) ):\\n\\\n",
    "    index = {lang}Alphabets[second]\\n\\\n",
    "    prob = {lang}Model[-1][index][-1]\\n\\\n",
    "elif ( (second not in {lang}Alphabets.keys()) and (third not in {lang}Alphabets.keys()) ):\\n\\\n",
    "    index = {lang}Alphabets[first]\\n\\\n",
    "    prob = {lang}Model[index][-1][-1]\\n\\\n",
    "elif first not in {lang}Alphabets.keys():\\n\\\n",
    "    secondIndex = {lang}Alphabets[second]\\n\\\n",
    "    thirdIndex = {lang}Alphabets[third]\\n\\\n",
    "    prob = {lang}Model[-1][secondIndex][thirdIndex]\\n\\\n",
    "elif second not in {lang}Alphabets.keys():\\n\\\n",
    "    firstIndex = {lang}Alphabets[first]\\n\\\n",
    "    thirdIndex = {lang}Alphabets[third]\\n\\\n",
    "    prob = {lang}Model[firstIndex][-1][thirdIndex]\\n\\\n",
    "elif third not in {lang}Alphabets.keys():\\n\\\n",
    "    firstIndex = {lang}Alphabets[first]\\n\\\n",
    "    secondIndex = {lang}Alphabets[second]\\n\\\n",
    "    prob = {lang}Model[firstIndex][secondIndex][-1]\\n\\\n",
    "else:\\n\\\n",
    "    firstIndex = {lang}Alphabets[first]\\n\\\n",
    "    secondIndex = {lang}Alphabets[second]\\n\\\n",
    "    thirdIndex = {lang}Alphabets[third]\\n\\\n",
    "    prob = {lang}Model[firstIndex][secondIndex][thirdIndex]\\n\\\n",
    "{lang}Prob = prob + {lang}Prob\\n'.format(lang='en')\n",
    "    \n",
    "print(str)"
   ]
  },
  {
   "cell_type": "code",
   "execution_count": null,
   "metadata": {},
   "outputs": [],
   "source": []
  }
 ],
 "metadata": {
  "kernelspec": {
   "display_name": "Python 3",
   "language": "python",
   "name": "python3"
  },
  "language_info": {
   "codemirror_mode": {
    "name": "ipython",
    "version": 3
   },
   "file_extension": ".py",
   "mimetype": "text/x-python",
   "name": "python",
   "nbconvert_exporter": "python",
   "pygments_lexer": "ipython3",
   "version": "3.7.4"
  }
 },
 "nbformat": 4,
 "nbformat_minor": 2
}
