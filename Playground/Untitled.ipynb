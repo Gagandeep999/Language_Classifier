{
 "cells": [
  {
   "cell_type": "code",
   "execution_count": null,
   "metadata": {},
   "outputs": [],
   "source": [
    "import pandas as pd\n",
    "df = pd.read_csv('../trace_0_1_0.5.txt', delim_whitespace=True, header=0)\n",
    "# df.columns = ['TweetID', 'PredictedValue', 'Probability', 'ActualValue']"
   ]
  },
  {
   "cell_type": "code",
   "execution_count": null,
   "metadata": {},
   "outputs": [],
   "source": [
    "df.head()"
   ]
  },
  {
   "cell_type": "code",
   "execution_count": null,
   "metadata": {},
   "outputs": [],
   "source": [
    "languages = ['en', 'es', 'eu', 'ca', 'pt', 'gl']\n",
    "correct = 0\n",
    "wrong = 0\n",
    "for language in languages:\n",
    "    exec('%sTP = 0' % language)\n",
    "    exec('%sFP = 0' % language)\n",
    "    exec('%sTN = 0' % language)\n",
    "    exec('%sFN = 0' % language)"
   ]
  },
  {
   "cell_type": "code",
   "execution_count": null,
   "metadata": {},
   "outputs": [],
   "source": [
    "for index, row in df.iterrows():\n",
    "    predicted = row['PREDICTEDVALUE']\n",
    "    actual = row['ACTUALVALUE']\n",
    "    result = row ['RESULT']\n",
    "    if 'wrong' in result:\n",
    "        wrong += 1\n",
    "        exec('%sFN += 1'%(actual))\n",
    "        exec('%sFP += 1'%(predicted))\n",
    "    else:\n",
    "        correct += 1\n",
    "        exec('%sTP += 1'%(predicted))"
   ]
  },
  {
   "cell_type": "code",
   "execution_count": null,
   "metadata": {},
   "outputs": [],
   "source": [
    "print('correct:', correct)\n",
    "print('wrong:', wrong)\n",
    "for language in languages:\n",
    "    exec('print(\\'%sTP\\',%sTP)'%(language, language))\n",
    "    exec('print(\\'%sTN\\',%sTN)'%(language, language))\n",
    "    exec('print(\\'%sFP\\',%sFP)'%(language, language))\n",
    "    exec('print(\\'%sFN\\',%sFN)'%(language, language))\n",
    "    print(end='\\n')"
   ]
  },
  {
   "cell_type": "code",
   "execution_count": null,
   "metadata": {},
   "outputs": [],
   "source": [
    "accuracy = correct / (correct+wrong)\n",
    "accuracy"
   ]
  },
  {
   "cell_type": "code",
   "execution_count": null,
   "metadata": {},
   "outputs": [],
   "source": [
    "for language in languages:\n",
    "    exec('pre = %sTP / (%sTP+%sFP)'%(language, language, language))\n",
    "    print(pre)"
   ]
  },
  {
   "cell_type": "code",
   "execution_count": null,
   "metadata": {},
   "outputs": [],
   "source": [
    "for language in languages:\n",
    "    exec('rec = %sTP / (%sTP+%sFN)'%(language, language, language))\n",
    "    print(rec)"
   ]
  },
  {
   "cell_type": "code",
   "execution_count": null,
   "metadata": {},
   "outputs": [],
   "source": [
    "for language in languages:\n",
    "    exec('pre = %sTP / (%sTP+%sFP)'%(language, language, language))\n",
    "    exec('rec = %sTP / (%sTP+%sFN)'%(language, language, language))\n",
    "    f1 = 2 * ((pre*rec)/(pre+rec))\n",
    "    print(f1)"
   ]
  },
  {
   "cell_type": "code",
   "execution_count": null,
   "metadata": {},
   "outputs": [],
   "source": [
    "macro = 0\n",
    "for language in languages:\n",
    "    exec('pre = %sTP / (%sTP+%sFP)'%(language, language, language))\n",
    "    exec('rec = %sTP / (%sTP+%sFN)'%(language, language, language))\n",
    "    f1 = 2 * ((pre*rec)/(pre+rec))\n",
    "    macro += f1\n",
    "print(macro)"
   ]
  },
  {
   "cell_type": "code",
   "execution_count": null,
   "metadata": {},
   "outputs": [],
   "source": [
    "wghtdf1 = 0\n",
    "for language in languages:\n",
    "    exec('pre = %sTP / (%sTP+%sFP)'%(language, language, language))\n",
    "    exec('rec = %sTP / (%sTP+%sFN)'%(language, language, language))\n",
    "    exec('wghtd = (%sTP+%sFP)/(wrong+correct) * (2 * ((pre*rec)/(pre+rec)))'%(language, language))\n",
    "    wghtdf1 += wghtd\n",
    "print(wghtdf1)"
   ]
  },
  {
   "cell_type": "code",
   "execution_count": null,
   "metadata": {},
   "outputs": [],
   "source": []
  }
 ],
 "metadata": {
  "kernelspec": {
   "display_name": "Python 3",
   "language": "python",
   "name": "python3"
  },
  "language_info": {
   "codemirror_mode": {
    "name": "ipython",
    "version": 3
   },
   "file_extension": ".py",
   "mimetype": "text/x-python",
   "name": "python",
   "nbconvert_exporter": "python",
   "pygments_lexer": "ipython3",
   "version": "3.7.4"
  }
 },
 "nbformat": 4,
 "nbformat_minor": 2
}
