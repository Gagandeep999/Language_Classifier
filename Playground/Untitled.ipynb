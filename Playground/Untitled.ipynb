{
 "cells": [
  {
   "cell_type": "code",
   "execution_count": 33,
   "metadata": {},
   "outputs": [],
   "source": [
    "import pandas as pd\n",
    "df = pd.read_csv('filename.txt', delim_whitespace=True, header=0)\n",
    "# df.columns = ['TweetID', 'PredictedValue', 'Probability', 'ActualValue']"
   ]
  },
  {
   "cell_type": "code",
   "execution_count": 34,
   "metadata": {},
   "outputs": [
    {
     "data": {
      "text/html": [
       "<div>\n",
       "<style scoped>\n",
       "    .dataframe tbody tr th:only-of-type {\n",
       "        vertical-align: middle;\n",
       "    }\n",
       "\n",
       "    .dataframe tbody tr th {\n",
       "        vertical-align: top;\n",
       "    }\n",
       "\n",
       "    .dataframe thead th {\n",
       "        text-align: right;\n",
       "    }\n",
       "</style>\n",
       "<table border=\"1\" class=\"dataframe\">\n",
       "  <thead>\n",
       "    <tr style=\"text-align: right;\">\n",
       "      <th></th>\n",
       "      <th>TWEETID</th>\n",
       "      <th>PREDICTEDVALUE</th>\n",
       "      <th>PROBABILITY</th>\n",
       "      <th>ACTUALVALUE</th>\n",
       "      <th>RESULT</th>\n",
       "    </tr>\n",
       "  </thead>\n",
       "  <tbody>\n",
       "    <tr>\n",
       "      <th>0</th>\n",
       "      <td>439381946939232257</td>\n",
       "      <td>gl</td>\n",
       "      <td>-118.0</td>\n",
       "      <td>es</td>\n",
       "      <td>wrong</td>\n",
       "    </tr>\n",
       "    <tr>\n",
       "      <th>1</th>\n",
       "      <td>439389330533273600</td>\n",
       "      <td>gl</td>\n",
       "      <td>-224.0</td>\n",
       "      <td>es</td>\n",
       "      <td>wrong</td>\n",
       "    </tr>\n",
       "    <tr>\n",
       "      <th>2</th>\n",
       "      <td>439392779786285056</td>\n",
       "      <td>gl</td>\n",
       "      <td>-113.0</td>\n",
       "      <td>es</td>\n",
       "      <td>wrong</td>\n",
       "    </tr>\n",
       "    <tr>\n",
       "      <th>3</th>\n",
       "      <td>439393603845373952</td>\n",
       "      <td>eu</td>\n",
       "      <td>-37.7</td>\n",
       "      <td>es</td>\n",
       "      <td>wrong</td>\n",
       "    </tr>\n",
       "    <tr>\n",
       "      <th>4</th>\n",
       "      <td>439395306464346112</td>\n",
       "      <td>eu</td>\n",
       "      <td>-71.4</td>\n",
       "      <td>eu</td>\n",
       "      <td>correct</td>\n",
       "    </tr>\n",
       "  </tbody>\n",
       "</table>\n",
       "</div>"
      ],
      "text/plain": [
       "              TWEETID PREDICTEDVALUE  PROBABILITY ACTUALVALUE   RESULT\n",
       "0  439381946939232257             gl       -118.0          es    wrong\n",
       "1  439389330533273600             gl       -224.0          es    wrong\n",
       "2  439392779786285056             gl       -113.0          es    wrong\n",
       "3  439393603845373952             eu        -37.7          es    wrong\n",
       "4  439395306464346112             eu        -71.4          eu  correct"
      ]
     },
     "execution_count": 34,
     "metadata": {},
     "output_type": "execute_result"
    }
   ],
   "source": [
    "df.head()"
   ]
  },
  {
   "cell_type": "code",
   "execution_count": 35,
   "metadata": {},
   "outputs": [],
   "source": [
    "languages = ['eu', 'ca', 'gl', 'es', 'en', 'pt']\n",
    "correct = 0\n",
    "wrong = 0\n",
    "for language in languages:\n",
    "    exec('%sTP = 0' % language)\n",
    "    exec('%sFP = 0' % language)\n",
    "    exec('%sTN = 0' % language)\n",
    "    exec('%sFN = 0' % language)"
   ]
  },
  {
   "cell_type": "code",
   "execution_count": 36,
   "metadata": {},
   "outputs": [],
   "source": [
    "for index, row in df.iterrows():\n",
    "    predicted = row['PREDICTEDVALUE']\n",
    "    actual = row['ACTUALVALUE']\n",
    "    result = row ['RESULT']\n",
    "    if 'wrong' in result:\n",
    "        wrong = wrong + 1\n",
    "        exec('%sFN += 1'%(actual))\n",
    "        exec('%sFP += 1'%(predicted))\n",
    "#         for language  in languages:\n",
    "#             if language!=predicted and language!=actual:\n",
    "#                 exec('%sTN += 1'%(predicted))\n",
    "    else:\n",
    "        correct = correct + 1\n",
    "        exec('%sTP += 1'%(predicted))\n",
    "#         for language in languages:\n",
    "#             if language!=predicted:\n",
    "#                 exec('%sTN += 1'%(predicted))\n",
    "\n"
   ]
  },
  {
   "cell_type": "code",
   "execution_count": 37,
   "metadata": {},
   "outputs": [
    {
     "name": "stdout",
     "output_type": "stream",
     "text": [
      "correct: 2270\n",
      "wrong: 4523\n",
      "euTP 369\n",
      "euTN 0\n",
      "euFP 1387\n",
      "euFN 7\n",
      "\n",
      "caTP 4\n",
      "caTN 0\n",
      "caFP 86\n",
      "caFN 12\n",
      "\n",
      "glTP 1\n",
      "glTN 0\n",
      "glFP 2823\n",
      "glFN 0\n",
      "\n",
      "esTP 202\n",
      "esTN 0\n",
      "esFP 15\n",
      "esFN 3702\n",
      "\n",
      "enTP 396\n",
      "enTN 0\n",
      "enFP 162\n",
      "enFN 80\n",
      "\n",
      "ptTP 1298\n",
      "ptTN 0\n",
      "ptFP 50\n",
      "ptFN 722\n",
      "\n"
     ]
    }
   ],
   "source": [
    "print('correct:', correct)\n",
    "print('wrong:', wrong)\n",
    "for language in languages:\n",
    "    exec('print(\\'%sTP\\',%sTP)'%(language, language))\n",
    "    exec('print(\\'%sTN\\',%sTN)'%(language, language))\n",
    "    exec('print(\\'%sFP\\',%sFP)'%(language, language))\n",
    "    exec('print(\\'%sFN\\',%sFN)'%(language, language))\n",
    "    print(end='\\n')"
   ]
  },
  {
   "cell_type": "code",
   "execution_count": 38,
   "metadata": {},
   "outputs": [
    {
     "name": "stdout",
     "output_type": "stream",
     "text": [
      "0.3342\n"
     ]
    }
   ],
   "source": [
    "accuracy = correct / (correct+wrong)\n",
    "print('%.4f'%(accuracy))"
   ]
  },
  {
   "cell_type": "code",
   "execution_count": 12,
   "metadata": {},
   "outputs": [
    {
     "name": "stdout",
     "output_type": "stream",
     "text": [
      "0.2101\n",
      "0.0444\n",
      "0.0004\n",
      "0.9309\n",
      "0.7097\n",
      "0.9629\n"
     ]
    }
   ],
   "source": [
    "def precision(tp, fp):\n",
    "    return tp / (tp+fp)\n",
    "\n",
    "for language in languages:\n",
    "    exec('pre = precision(%sTP, %sFP)'%(language, language))\n",
    "    exec('print(\\'%.4f\\'%pre)')"
   ]
  },
  {
   "cell_type": "code",
   "execution_count": 13,
   "metadata": {},
   "outputs": [
    {
     "name": "stdout",
     "output_type": "stream",
     "text": [
      "0.9813829787234043\n",
      "0.25\n",
      "1.0\n",
      "0.051741803278688527\n",
      "0.8319327731092437\n",
      "0.6425742574257426\n"
     ]
    }
   ],
   "source": [
    "for language in languages:\n",
    "    exec('rec = %sTP / (%sTP+%sFN)'%(language, language, language))\n",
    "    print(rec)"
   ]
  },
  {
   "cell_type": "code",
   "execution_count": 14,
   "metadata": {},
   "outputs": [
    {
     "name": "stdout",
     "output_type": "stream",
     "text": [
      "0.34615384615384615\n",
      "0.07547169811320754\n",
      "0.0007079646017699115\n",
      "0.09803445765590876\n",
      "0.7659574468085107\n",
      "0.7707838479809976\n"
     ]
    }
   ],
   "source": [
    "for language in languages:\n",
    "    exec('pre = %sTP / (%sTP+%sFP)'%(language, language, language))\n",
    "    exec('rec = %sTP / (%sTP+%sFN)'%(language, language, language))\n",
    "    if (pre+rec) != 0:\n",
    "        f1 = 2 * ((pre*rec)/(pre+rec))\n",
    "    else:\n",
    "        f1 = 0\n",
    "    print(f1)"
   ]
  },
  {
   "cell_type": "code",
   "execution_count": 15,
   "metadata": {},
   "outputs": [
    {
     "name": "stdout",
     "output_type": "stream",
     "text": [
      "0.3428515435523735\n"
     ]
    }
   ],
   "source": [
    "macro = 0\n",
    "for language in languages:\n",
    "    exec('pre = %sTP / (%sTP+%sFP)'%(language, language, language))\n",
    "    exec('rec = %sTP / (%sTP+%sFN)'%(language, language, language))\n",
    "    if (pre+rec) != 0:\n",
    "        f1 = 2 * ((pre*rec)/(pre+rec))\n",
    "    else:\n",
    "        f1 = 0\n",
    "    macro += f1\n",
    "print(macro/6)"
   ]
  },
  {
   "cell_type": "code",
   "execution_count": 16,
   "metadata": {},
   "outputs": [
    {
     "name": "stdout",
     "output_type": "stream",
     "text": [
      "0.30977951691750427\n"
     ]
    }
   ],
   "source": [
    "wghtdf1 = 0\n",
    "for language in languages:\n",
    "    exec('pre = %sTP / (%sTP+%sFP)'%(language, language, language))\n",
    "    exec('rec = %sTP / (%sTP+%sFN)'%(language, language, language))\n",
    "    if (pre+rec) != 0:\n",
    "        exec('wghtd = (%sTP+%sFP)/(wrong+correct) * (2 * ((pre*rec)/(pre+rec)))'%(language, language))\n",
    "    else:\n",
    "        wghtd = 0\n",
    "    wghtdf1 += wghtd\n",
    "print(wghtdf1)"
   ]
  },
  {
   "cell_type": "code",
   "execution_count": null,
   "metadata": {},
   "outputs": [],
   "source": []
  },
  {
   "cell_type": "code",
   "execution_count": 22,
   "metadata": {},
   "outputs": [
    {
     "data": {
      "text/plain": [
       "7"
      ]
     },
     "execution_count": 22,
     "metadata": {},
     "output_type": "execute_result"
    }
   ],
   "source": []
  },
  {
   "cell_type": "code",
   "execution_count": null,
   "metadata": {},
   "outputs": [],
   "source": []
  }
 ],
 "metadata": {
  "kernelspec": {
   "display_name": "Python 3",
   "language": "python",
   "name": "python3"
  },
  "language_info": {
   "codemirror_mode": {
    "name": "ipython",
    "version": 3
   },
   "file_extension": ".py",
   "mimetype": "text/x-python",
   "name": "python",
   "nbconvert_exporter": "python",
   "pygments_lexer": "ipython3",
   "version": "3.7.4"
  }
 },
 "nbformat": 4,
 "nbformat_minor": 2
}
