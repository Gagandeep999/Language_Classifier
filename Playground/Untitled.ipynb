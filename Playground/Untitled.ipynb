{
 "cells": [
  {
   "cell_type": "code",
   "execution_count": null,
   "metadata": {},
   "outputs": [],
   "source": [
    "import pandas as pd\n",
    "df = pd.read_csv('../Outputs/trace_0_1_0.5.txt', delim_whitespace=True, header=0)\n",
    "# df.columns = ['TweetID', 'PredictedValue', 'Probability', 'ActualValue']"
   ]
  },
  {
   "cell_type": "code",
   "execution_count": null,
   "metadata": {},
   "outputs": [],
   "source": [
    "df.head()"
   ]
  },
  {
   "cell_type": "code",
   "execution_count": null,
   "metadata": {},
   "outputs": [],
   "source": [
    "languages = ['eu', 'ca', 'gl', 'es', 'en', 'pt']\n",
    "correct = 0\n",
    "wrong = 0\n",
    "for language in languages:\n",
    "    exec('%sTP = 0' % language)\n",
    "    exec('%sFP = 0' % language)\n",
    "    exec('%sTN = 0' % language)\n",
    "    exec('%sFN = 0' % language)"
   ]
  },
  {
   "cell_type": "code",
   "execution_count": null,
   "metadata": {},
   "outputs": [],
   "source": [
    "for index, row in df.iterrows():\n",
    "    predicted = row['PREDICTEDVALUE']\n",
    "    actual = row['ACTUALVALUE']\n",
    "    result = row ['RESULT']\n",
    "    if 'wrong' in result:\n",
    "        wrong = wrong + 1\n",
    "        exec('%sFN += 1'%(actual))\n",
    "        exec('%sFP += 1'%(predicted))\n",
    "        for language  in languages:\n",
    "            if language!=predicted and language!=actual:\n",
    "                exec('%sTN += 1'%(predicted))\n",
    "    else:\n",
    "        correct = correct + 1\n",
    "        exec('%sTP += 1'%(predicted))\n",
    "        for language in languages:\n",
    "            if language!=predicted:\n",
    "                exec('%sTN += 1'%(predicted))\n",
    "\n"
   ]
  },
  {
   "cell_type": "code",
   "execution_count": null,
   "metadata": {},
   "outputs": [],
   "source": [
    "print('correct:', correct)\n",
    "print('wrong:', wrong)\n",
    "for language in languages:\n",
    "    exec('print(\\'%sTP\\',%sTP)'%(language, language))\n",
    "    exec('print(\\'%sTN\\',%sTN)'%(language, language))\n",
    "    exec('print(\\'%sFP\\',%sFP)'%(language, language))\n",
    "    exec('print(\\'%sFN\\',%sFN)'%(language, language))\n",
    "    print(end='\\n')"
   ]
  },
  {
   "cell_type": "code",
   "execution_count": null,
   "metadata": {},
   "outputs": [],
   "source": [
    "accuracy = correct / (correct+wrong)\n",
    "print('%.4f'%(accuracy))"
   ]
  },
  {
   "cell_type": "code",
   "execution_count": null,
   "metadata": {},
   "outputs": [],
   "source": [
    "def precision(tp, fp):\n",
    "    return tp / (tp+fp)\n",
    "\n",
    "for language in languages:\n",
    "    exec('pre = precision(%sTP, %sFP)'%(language, language))\n",
    "    exec('print(\\'%.4f\\'%pre)')"
   ]
  },
  {
   "cell_type": "code",
   "execution_count": null,
   "metadata": {},
   "outputs": [],
   "source": [
    "for language in languages:\n",
    "    exec('rec = %sTP / (%sTP+%sFN)'%(language, language, language))\n",
    "    print(rec)"
   ]
  },
  {
   "cell_type": "code",
   "execution_count": null,
   "metadata": {},
   "outputs": [],
   "source": [
    "for language in languages:\n",
    "    exec('pre = %sTP / (%sTP+%sFP)'%(language, language, language))\n",
    "    exec('rec = %sTP / (%sTP+%sFN)'%(language, language, language))\n",
    "    if (pre+rec) != 0:\n",
    "        f1 = 2 * ((pre*rec)/(pre+rec))\n",
    "    else:\n",
    "        f1 = 0\n",
    "    print(f1)"
   ]
  },
  {
   "cell_type": "code",
   "execution_count": null,
   "metadata": {},
   "outputs": [],
   "source": [
    "macro = 0\n",
    "for language in languages:\n",
    "    exec('pre = %sTP / (%sTP+%sFP)'%(language, language, language))\n",
    "    exec('rec = %sTP / (%sTP+%sFN)'%(language, language, language))\n",
    "    if (pre+rec) != 0:\n",
    "        f1 = 2 * ((pre*rec)/(pre+rec))\n",
    "    else:\n",
    "        f1 = 0\n",
    "    macro += f1\n",
    "print(macro/6)"
   ]
  },
  {
   "cell_type": "code",
   "execution_count": null,
   "metadata": {},
   "outputs": [],
   "source": [
    "wghtdf1 = 0\n",
    "for language in languages:\n",
    "    exec('pre = %sTP / (%sTP+%sFP)'%(language, language, language))\n",
    "    exec('rec = %sTP / (%sTP+%sFN)'%(language, language, language))\n",
    "    if (pre+rec) != 0:\n",
    "        exec('wghtd = (%sTP+%sFP)/(wrong+correct) * (2 * ((pre*rec)/(pre+rec)))'%(language, language))\n",
    "    else:\n",
    "        wghtd = 0\n",
    "    wghtdf1 += wghtd\n",
    "print(wghtdf1)"
   ]
  },
  {
   "cell_type": "code",
   "execution_count": null,
   "metadata": {},
   "outputs": [],
   "source": []
  },
  {
   "cell_type": "code",
   "execution_count": null,
   "metadata": {},
   "outputs": [],
   "source": []
  }
 ],
 "metadata": {
  "kernelspec": {
   "display_name": "Python 3",
   "language": "python",
   "name": "python3"
  },
  "language_info": {
   "codemirror_mode": {
    "name": "ipython",
    "version": 3
   },
   "file_extension": ".py",
   "mimetype": "text/x-python",
   "name": "python",
   "nbconvert_exporter": "python",
   "pygments_lexer": "ipython3",
   "version": "3.7.4"
  }
 },
 "nbformat": 4,
 "nbformat_minor": 2
}
