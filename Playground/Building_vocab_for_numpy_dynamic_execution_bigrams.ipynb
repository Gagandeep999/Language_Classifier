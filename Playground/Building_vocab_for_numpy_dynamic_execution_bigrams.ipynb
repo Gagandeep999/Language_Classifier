{
 "cells": [
  {
   "cell_type": "code",
   "execution_count": 22,
   "metadata": {},
   "outputs": [
    {
     "name": "stdout",
     "output_type": "stream",
     "text": [
      "numpy:  1.17.2\n",
      "pandas:  1.0.3\n"
     ]
    }
   ],
   "source": [
    "from collections import defaultdict\n",
    "import math\n",
    "import pandas as pd\n",
    "import re\n",
    "from datetime import datetime \n",
    "import numpy as np\n",
    "from decimal import Decimal\n",
    "import matplotlib.pyplot as plt\n",
    "import pylab\n",
    "\n",
    "print('numpy: ',np.version.version)\n",
    "print('pandas: ',pd.__version__)\n",
    "languages = ['en', 'es', 'eu', 'ca', 'pt', 'gl']"
   ]
  },
  {
   "cell_type": "code",
   "execution_count": 23,
   "metadata": {},
   "outputs": [
    {
     "name": "stderr",
     "output_type": "stream",
     "text": [
      "b'Skipping line 17: expected 4 fields, saw 5\\nSkipping line 33: expected 4 fields, saw 5\\nSkipping line 44: expected 4 fields, saw 5\\nSkipping line 58: expected 4 fields, saw 5\\nSkipping line 61: expected 4 fields, saw 5\\nSkipping line 64: expected 4 fields, saw 5\\nSkipping line 74: expected 4 fields, saw 5\\nSkipping line 91: expected 4 fields, saw 5\\nSkipping line 99: expected 4 fields, saw 5\\nSkipping line 140: expected 4 fields, saw 5\\nSkipping line 145: expected 4 fields, saw 5\\nSkipping line 148: expected 4 fields, saw 5\\nSkipping line 152: expected 4 fields, saw 5\\nSkipping line 171: expected 4 fields, saw 5\\nSkipping line 178: expected 4 fields, saw 5\\nSkipping line 197: expected 4 fields, saw 5\\nSkipping line 201: expected 4 fields, saw 5\\nSkipping line 203: expected 4 fields, saw 5\\nSkipping line 213: expected 4 fields, saw 5\\nSkipping line 216: expected 4 fields, saw 5\\n'\n"
     ]
    }
   ],
   "source": [
    "df = pd.read_csv('../OriginalDataSet/training-tweets.txt', encoding='utf-8', error_bad_lines=False, sep='\\t', nrows=18000)\n",
    "df.columns = ['TweetID', 'UserID', 'Language', \"Tweet\"]"
   ]
  },
  {
   "cell_type": "code",
   "execution_count": 24,
   "metadata": {},
   "outputs": [
    {
     "data": {
      "text/html": [
       "<div>\n",
       "<style scoped>\n",
       "    .dataframe tbody tr th:only-of-type {\n",
       "        vertical-align: middle;\n",
       "    }\n",
       "\n",
       "    .dataframe tbody tr th {\n",
       "        vertical-align: top;\n",
       "    }\n",
       "\n",
       "    .dataframe thead th {\n",
       "        text-align: right;\n",
       "    }\n",
       "</style>\n",
       "<table border=\"1\" class=\"dataframe\">\n",
       "  <thead>\n",
       "    <tr style=\"text-align: right;\">\n",
       "      <th></th>\n",
       "      <th>Language</th>\n",
       "      <th>Tweet</th>\n",
       "    </tr>\n",
       "  </thead>\n",
       "  <tbody>\n",
       "    <tr>\n",
       "      <th>0</th>\n",
       "      <td>es</td>\n",
       "      <td>Pedazo de tarta k me e kurrao!!!! Ske k buena ...</td>\n",
       "    </tr>\n",
       "    <tr>\n",
       "      <th>1</th>\n",
       "      <td>es</td>\n",
       "      <td>No hace falta que te digan que vas a morir par...</td>\n",
       "    </tr>\n",
       "    <tr>\n",
       "      <th>2</th>\n",
       "      <td>es</td>\n",
       "      <td>Empieza mi findeeeee :))))</td>\n",
       "    </tr>\n",
       "    <tr>\n",
       "      <th>3</th>\n",
       "      <td>es</td>\n",
       "      <td>Próxima parada: Carnaval del Toro de Ciudad Ro...</td>\n",
       "    </tr>\n",
       "    <tr>\n",
       "      <th>4</th>\n",
       "      <td>es</td>\n",
       "      <td>Graniza y tal.</td>\n",
       "    </tr>\n",
       "  </tbody>\n",
       "</table>\n",
       "</div>"
      ],
      "text/plain": [
       "  Language                                              Tweet\n",
       "0       es  Pedazo de tarta k me e kurrao!!!! Ske k buena ...\n",
       "1       es  No hace falta que te digan que vas a morir par...\n",
       "2       es                         Empieza mi findeeeee :))))\n",
       "3       es  Próxima parada: Carnaval del Toro de Ciudad Ro...\n",
       "4       es                                     Graniza y tal."
      ]
     },
     "execution_count": 24,
     "metadata": {},
     "output_type": "execute_result"
    }
   ],
   "source": [
    "_df0 = df[['Language', 'Tweet']].copy()\n",
    "pattern = re.compile('[ ]')\n",
    "_df0.head()"
   ]
  },
  {
   "cell_type": "code",
   "execution_count": 25,
   "metadata": {},
   "outputs": [],
   "source": [
    "for language in languages:\n",
    "    exec(\"%sAlphabets={}\" % (language))\n",
    "    exec ('{0}Size = 0'.format(language))"
   ]
  },
  {
   "cell_type": "code",
   "execution_count": 26,
   "metadata": {},
   "outputs": [
    {
     "name": "stdout",
     "output_type": "stream",
     "text": [
      "Reading time (hh:mm:ss.ms) 0:00:29.624258\n"
     ]
    }
   ],
   "source": [
    "start_time = datetime.now() \n",
    "trainDict = defaultdict(list)\n",
    "for index, row in _df0.iterrows():\n",
    "    sentence = ''\n",
    "    tweet = row['Tweet']\n",
    "    language = row['Language']\n",
    "    for letter in tweet:\n",
    "        if letter.isalpha() or pattern.match(letter):\n",
    "            exec('if \\'{0}\\' not in {1}Alphabets.keys():\\n\\\n",
    "                     {2}Alphabets[letter] = {3}Size\\n\\\n",
    "                     {4}Size += 1'.format(letter, language, language, language, language))\n",
    "            sentence = sentence + letter\n",
    "    trainDict[row['Language']].append(sentence)\n",
    "print('Reading time (hh:mm:ss.ms) {}'.format(datetime.now() - start_time ))"
   ]
  },
  {
   "cell_type": "code",
   "execution_count": null,
   "metadata": {},
   "outputs": [],
   "source": [
    "print(enSize)\n",
    "print(enAlphabets)\n",
    "print(esSize)\n",
    "print(esAlphabets)\n",
    "print(euSize)\n",
    "print(euAlphabets)\n",
    "print(caSize)\n",
    "print(caAlphabets)\n",
    "print(ptSize)\n",
    "print(ptAlphabets)\n",
    "print(glSize)\n",
    "print(glAlphabets)"
   ]
  },
  {
   "cell_type": "code",
   "execution_count": 27,
   "metadata": {},
   "outputs": [],
   "source": [
    "for language in languages:\n",
    "    exec(\"%sModel=np.zeros(shape=((%sSize+1),(%sSize+1))) \" %(language, language, language))\n",
    "#     exec(\"%sModelFinal=np.zeros(shape=((%sSize+1),(%sSize+1))) \" %(language, language, language))\n",
    "#     exec(\"%sCount=0\" %(language))\n",
    "#     exec(\"%sEachWordCount=dict.fromkeys(%sAlphabets, 0)\" %(language, language)) #needed for bigrams"
   ]
  },
  {
   "cell_type": "code",
   "execution_count": null,
   "metadata": {},
   "outputs": [],
   "source": [
    "print('EN',enModel, enModel.shape)\n",
    "print('ES',esModel, esModel.shape)\n",
    "print('EU',euModel, euModel.shape)\n",
    "print('CA',caModel, caModel.shape)\n",
    "print('PT',ptModel, ptModel.shape)\n",
    "print('gl',glModel, glModel.shape)"
   ]
  },
  {
   "cell_type": "code",
   "execution_count": null,
   "metadata": {},
   "outputs": [],
   "source": [
    "# a = dict.fromkeys(a, 0)\n",
    "# print(trainDict)"
   ]
  },
  {
   "cell_type": "markdown",
   "metadata": {},
   "source": [
    "#### For Unigrams"
   ]
  },
  {
   "cell_type": "code",
   "execution_count": null,
   "metadata": {},
   "outputs": [],
   "source": [
    "# start_time = datetime.now()\n",
    "# delta = 0.5\n",
    "# for language, tweets in trainDict.items():\n",
    "#     for tweet in tweets:\n",
    "#         for i in range(len(tweet)-1):\n",
    "#             first = tweet[i]\n",
    "#             exec('index = %sAlphabets[first]'%(language)) #index = esAlphabets[first] #get index of the character from the language dictionary\n",
    "#             exec('%sModel[index] += 1'%(language)) #np.add.at(esModel, [index], 1) #increment that index in the language model\n",
    "# for language in languages:\n",
    "#     exec('%sModel = %sModel/%sModel.sum()'%(language, language, language)) #divide all the values by the sum of the row\n",
    "#     exec('%sModel = np.log10(%sModel)'%(language, language))\n",
    "# print('Training time (hh:mm:ss.ms) {}'.format(datetime.now() - start_time ))"
   ]
  },
  {
   "cell_type": "markdown",
   "metadata": {},
   "source": [
    "#### For Bigrams"
   ]
  },
  {
   "cell_type": "code",
   "execution_count": 28,
   "metadata": {},
   "outputs": [
    {
     "name": "stdout",
     "output_type": "stream",
     "text": [
      "Training time (hh:mm:ss.ms) 0:00:40.563426\n"
     ]
    }
   ],
   "source": [
    "start_time = datetime.now()\n",
    "delta = 0.5\n",
    "for language, tweets in trainDict.items():\n",
    "    for tweet in tweets:\n",
    "        for i in range(len(tweet)-2):\n",
    "            first = tweet[i]\n",
    "            second = tweet[i+1]\n",
    "            exec('firstIndex = %sAlphabets[first]'%(language))\n",
    "            exec('secondIndex = %sAlphabets[second]'%(language))\n",
    "            exec('%sModel[firstIndex][secondIndex] += 1'%(language))\n",
    "for language in languages:\n",
    "    exec('%sModel = np.add(%sModel, delta)'%(language, language)) #this is where smoothing happens\n",
    "    exec('%sModel = %sModel/%sModel.sum(axis=1)'%(language, language, language)) #divide all the values by the sum of the row\n",
    "    exec('%sModel = np.log10(%sModel)'%(language, language))\n",
    "print('Training time (hh:mm:ss.ms) {}'.format(datetime.now() - start_time ))"
   ]
  },
  {
   "cell_type": "code",
   "execution_count": null,
   "metadata": {},
   "outputs": [],
   "source": [
    "for language in languages:\n",
    "    exec('print(\\'%s\\', %sModel)'%(language, language))\n",
    "#     exec('print(\\'%s\\', %sModelFinal)'%(language, language))\n",
    "\n",
    "# print('EN',enModel, enModel.shape)\n",
    "# print('EN',enModel, enModel.shape)\n",
    "# print('ES',esModel, esModel.shape)\n",
    "# print('ES',esModel, esModel.shape)\n",
    "# print('EU',euModel, euModel.shape)\n",
    "# print('EU',euModel, euModel.shape)\n",
    "# print('CA',caModel, caModel.shape)\n",
    "# print('PT',ptModel, ptModel.shape)\n",
    "# print('gl',glModel, glModel.shape)"
   ]
  },
  {
   "cell_type": "code",
   "execution_count": null,
   "metadata": {},
   "outputs": [],
   "source": [
    "# glSum = glModel.sum()\n",
    "# ptSum = ptModel.sum()\n",
    "# caSum = caModel.sum()\n",
    "# euSum = euModel.sum()\n",
    "# esSum = esModel.sum()\n",
    "# enSum = enModel.sum()"
   ]
  },
  {
   "cell_type": "code",
   "execution_count": null,
   "metadata": {},
   "outputs": [],
   "source": [
    "# print('enSum', enSum ,'\\nesSum', esSum ,'\\neuSum', euSum ,'\\ncaSum', caSum ,'\\nptSum', ptSum, '\\nglSum', glSum)"
   ]
  },
  {
   "cell_type": "markdown",
   "metadata": {},
   "source": [
    "### Plotting the model"
   ]
  },
  {
   "cell_type": "code",
   "execution_count": null,
   "metadata": {},
   "outputs": [],
   "source": [
    "# print(enModel)\n",
    "row = enModel[0:1]\n",
    "# print('row: ', row)\n",
    "# y = np.zeros(shape=((row.shape)))\n",
    "colum = enModel[0][0]\n",
    "# print('column', colum)\n",
    "\n",
    "x = row\n",
    "y = np.full((row.shape), row[0][0])\n",
    "x = x.flatten()\n",
    "y = y.flatten()\n",
    "# print(x.shape)\n",
    "# print(y.shape)\n",
    "xAxis = enAlphabets.keys()\n",
    "# print(xAxis)\n",
    "\n",
    "# print('x:\\n',x)\n",
    "# print('y:\\n ',y)\n",
    "area = (10 * np.random.rand(x.shape[0]))**2\n",
    "colors = np.random.rand(x.shape[0])\n",
    "plt.scatter(x, y, s=area, c=colors, alpha=0.3)"
   ]
  },
  {
   "cell_type": "code",
   "execution_count": null,
   "metadata": {},
   "outputs": [],
   "source": [
    "N = 10\n",
    "x = np.random.rand(N)\n",
    "y = np.random.rand(N)\n",
    "colors = np.random.rand(N)\n",
    "area = (30 * np.random.rand(N))**2  # 0 to 15 point radii\n",
    "print(x.shape)\n",
    "print(y.shape)\n",
    "plt.scatter(x, y, s=area, c=colors, alpha=0.5)\n",
    "plt.show()"
   ]
  },
  {
   "cell_type": "code",
   "execution_count": null,
   "metadata": {},
   "outputs": [],
   "source": [
    "fig = plt.figure()  # an empty figure with no axes\n",
    "fig.suptitle('First Trial')  # Add a title so we know which it is\n",
    "plt.scatter(x, y, s=area, c=colors, alpha=0.3)\n",
    "plt.xlabel('x label')\n",
    "plt.ylabel('y label')\n",
    "\n",
    "plt.show()"
   ]
  },
  {
   "cell_type": "markdown",
   "metadata": {},
   "source": [
    "## Testing the models"
   ]
  },
  {
   "cell_type": "code",
   "execution_count": 29,
   "metadata": {},
   "outputs": [
    {
     "data": {
      "text/html": [
       "<div>\n",
       "<style scoped>\n",
       "    .dataframe tbody tr th:only-of-type {\n",
       "        vertical-align: middle;\n",
       "    }\n",
       "\n",
       "    .dataframe tbody tr th {\n",
       "        vertical-align: top;\n",
       "    }\n",
       "\n",
       "    .dataframe thead th {\n",
       "        text-align: right;\n",
       "    }\n",
       "</style>\n",
       "<table border=\"1\" class=\"dataframe\">\n",
       "  <thead>\n",
       "    <tr style=\"text-align: right;\">\n",
       "      <th></th>\n",
       "      <th>TweetID</th>\n",
       "      <th>Language</th>\n",
       "      <th>Tweet</th>\n",
       "    </tr>\n",
       "  </thead>\n",
       "  <tbody>\n",
       "    <tr>\n",
       "      <th>0</th>\n",
       "      <td>439381946939232257</td>\n",
       "      <td>es</td>\n",
       "      <td>Foto antes de LA FOTO. #orla @ Universidad de ...</td>\n",
       "    </tr>\n",
       "    <tr>\n",
       "      <th>1</th>\n",
       "      <td>439389330533273600</td>\n",
       "      <td>es</td>\n",
       "      <td>@Nagore_Robles Que mal lo vas a pasar viendo a...</td>\n",
       "    </tr>\n",
       "    <tr>\n",
       "      <th>2</th>\n",
       "      <td>439392779786285056</td>\n",
       "      <td>es</td>\n",
       "      <td>Hay cosas complicadas, y luego está quitarse l...</td>\n",
       "    </tr>\n",
       "    <tr>\n",
       "      <th>3</th>\n",
       "      <td>439393603845373952</td>\n",
       "      <td>es</td>\n",
       "      <td>Me duele todo, que asco.</td>\n",
       "    </tr>\n",
       "    <tr>\n",
       "      <th>4</th>\n",
       "      <td>439395306464346112</td>\n",
       "      <td>eu</td>\n",
       "      <td>Ta aste txuriyakin hastekoo bizitzako parriaak...</td>\n",
       "    </tr>\n",
       "  </tbody>\n",
       "</table>\n",
       "</div>"
      ],
      "text/plain": [
       "              TweetID Language  \\\n",
       "0  439381946939232257       es   \n",
       "1  439389330533273600       es   \n",
       "2  439392779786285056       es   \n",
       "3  439393603845373952       es   \n",
       "4  439395306464346112       eu   \n",
       "\n",
       "                                               Tweet  \n",
       "0  Foto antes de LA FOTO. #orla @ Universidad de ...  \n",
       "1  @Nagore_Robles Que mal lo vas a pasar viendo a...  \n",
       "2  Hay cosas complicadas, y luego está quitarse l...  \n",
       "3                           Me duele todo, que asco.  \n",
       "4  Ta aste txuriyakin hastekoo bizitzako parriaak...  "
      ]
     },
     "execution_count": 29,
     "metadata": {},
     "output_type": "execute_result"
    }
   ],
   "source": [
    "df = pd.read_csv('../OriginalDataSet/test-tweets-given.txt', encoding='utf-8', error_bad_lines=False, sep='\\t', nrows=100)\n",
    "df.columns = ['TweetID', 'UserID', 'Language', \"Tweet\"]\n",
    "_df0 = df[['TweetID', 'Language', 'Tweet']].copy()\n",
    "# pattern = re.compile('[a-z ]')\n",
    "_df0.head()"
   ]
  },
  {
   "cell_type": "code",
   "execution_count": 30,
   "metadata": {},
   "outputs": [
    {
     "name": "stdout",
     "output_type": "stream",
     "text": [
      "439381946939232257    gl    -1.13E+02    es wrong\n",
      "439389330533273600    gl    -1.57E+02    es wrong\n",
      "439392779786285056    es    -7.80E+01    es correct\n",
      "439393603845373952    gl    -2.65E+01    es wrong\n",
      "439395306464346112    eu    -5.52E+01    eu correct\n",
      "439403680245493760    en    -3.03E+01    es wrong\n",
      "439407703358967808    es    -1.54E+02    es correct\n",
      "439408603167211520    gl    -1.25E+02    es wrong\n",
      "439410377286492160    gl    -1.50E+02    es wrong\n",
      "439411327971643392    gl    -1.56E+02    es wrong\n",
      "439414230413217792    eu    -1.64E+02    es wrong\n",
      "439415113045778432    eu    -3.21E+01    eu correct\n",
      "439420783698640896    ca    -3.44E+01    es wrong\n",
      "439428207222484992    eu    -3.00E+01    es wrong\n",
      "439435803983634432    es    -6.64E+01    es correct\n",
      "439437804352057344    es    -4.38E+01    es correct\n",
      "439438406117232640    es    -7.75E+01    es correct\n",
      "439449097658195968    gl    -1.69E+02    es wrong\n",
      "439455534304210944    eu    -8.17E+01    eu correct\n",
      "439460634212970496    eu    -6.73E+01    es wrong\n",
      "439461162816905216    es    -7.94E+01    es correct\n",
      "439461272560877569    es    -6.20E+01    es correct\n",
      "439467342360485888    eu    -6.14E+01    en wrong\n",
      "439473200100282368    es    -1.75E+01    es correct\n",
      "439480968534298625    es    -8.83E+01    es correct\n",
      "439482014878941185    en    -2.92E+01    es wrong\n",
      "439484110122524672    eu    -1.53E+02    es wrong\n",
      "439484501455302657    pt    -4.17E+01    es wrong\n",
      "439487980601106432    gl    -7.05E+01    es wrong\n",
      "439498752056123392    es    -1.20E+02    es correct\n",
      "439503131714797570    pt    -3.88E+01    es wrong\n",
      "439504494284800000    eu    -7.44E+01    eu correct\n",
      "439505183505387520    eu    -9.96E+01    es wrong\n",
      "439507371220828160    pt    -1.24E+02    es wrong\n",
      "439507713610231810    es    -2.58E+01    es correct\n",
      "439513724815421440    gl    -5.38E+01    es wrong\n",
      "439516149727117313    gl    -1.11E+02    es wrong\n",
      "439516952927952897    es    -6.15E+01    es correct\n",
      "439518973169008640    ca    -9.03E+01    es wrong\n",
      "439520703696883713    ca    -1.08E+01    es wrong\n",
      "439522984446144512    eu    -8.20E+01    es wrong\n",
      "439525439430995968    es    -5.66E+01    es correct\n",
      "439534259318312960    gl    -7.46E+01    es wrong\n",
      "439535499850813441    ca    -5.42E+01    es wrong\n",
      "439535613822664704    gl    -3.24E+01    es wrong\n",
      "439536938664878080    es    -1.25E+02    es correct\n",
      "439537235042766848    gl    -1.86E+02    es wrong\n",
      "439537999442112512    gl    -5.07E+01    es wrong\n",
      "439540887056838656    eu    -7.51E+01    es wrong\n",
      "439541111531790336    es    -8.41E+01    es correct\n",
      "439542604355870720    es    -1.84E+02    es correct\n",
      "439542606624993280    es    -6.08E+01    es correct\n",
      "439555042723766272    ca    -8.94E+01    es wrong\n",
      "439558368873971712    gl    -1.26E+02    es wrong\n",
      "439560861586558976    eu    -1.79E+02    es wrong\n",
      "439567982818525184    gl    -4.08E+01    es wrong\n",
      "439577257435463680    gl    -7.63E+01    es wrong\n",
      "439608667051405312    gl    -1.37E+02    es wrong\n",
      "439637547665612800    gl    -5.35E+01    es wrong\n",
      "439645755952070656    es    -1.30E+02    es correct\n",
      "439657427320180736    gl    -2.02E+02    es wrong\n",
      "439663966571495425    ca    -8.22E+01    es wrong\n",
      "439670178251829248    gl    -1.77E+02    es wrong\n",
      "439684933595197440    eu    -6.96E+01    es wrong\n",
      "439687870098726913    es    -3.53E+01    es correct\n",
      "439687998012395520    gl    -4.19E+01    es wrong\n",
      "439688683978248192    es    -7.71E+01    es correct\n",
      "439692909018099712    eu    -1.65E+01    eu correct\n",
      "439696075122028544    eu    -1.76E+02    es wrong\n",
      "439697970804834304    gl    -5.49E+01    es wrong\n",
      "439701625616474112    pt    -1.68E+01    es wrong\n",
      "439706164432224256    eu    -4.96E+01    eu correct\n",
      "439709342955474944    gl    -8.31E+01    es wrong\n",
      "439713198129025024    gl    -2.56E+01    es wrong\n",
      "439714893332508672    es    -2.95E+01    eu wrong\n",
      "439718759201509376    es    -2.93E+01    es correct\n",
      "439719845756940288    gl    -5.33E+01    es wrong\n",
      "439722026287529984    eu    -3.45E+01    es wrong\n",
      "439723376354287616    gl    -1.79E+02    es wrong\n",
      "439723585494859777    gl    -9.94E+01    es wrong\n",
      "439723745511743488    es    -3.12E+01    es correct\n",
      "439725940768538624    gl    -2.74E+01    es wrong\n",
      "439726309103898624    es    -1.25E+02    es correct\n",
      "439728314744586240    es    -5.56E+01    es correct\n",
      "439733759790030848    gl    -6.27E+01    es wrong\n",
      "439734193401397248    eu    -2.01E+01    en wrong\n",
      "439735656383012864    es    -3.35E+01    es correct\n",
      "439739248175226881    es    -2.30E+01    es correct\n",
      "439741213668020224    eu    -1.74E+02    es wrong\n",
      "439742711311380480    eu    -5.69E+01    es wrong\n",
      "439743216196521985    es    -5.99E+01    es correct\n",
      "439744756328169472    ca    -4.34E+01    es wrong\n",
      "439745131479322625    es    -2.97E+01    es correct\n",
      "439745133052186625    gl    -1.03E+02    es wrong\n",
      "439748495395020800    eu    -1.62E+02    es wrong\n",
      "439751898217070592    es    -9.24E+01    es correct\n",
      "439753018041708546    es    -1.96E+02    es correct\n",
      "439755659622776832    gl    -4.52E+01    es wrong\n",
      "439756762099351552    gl    -1.39E+01    es wrong\n",
      "439758392232792064    es    -2.95E+01    es correct\n"
     ]
    }
   ],
   "source": [
    "probability = {}\n",
    "for index, row in _df0.iterrows():\n",
    "    for language in languages:\n",
    "        exec(\"%sProb=math.log10(1/6)\" % (language))\n",
    "    tweetID = row['TweetID']\n",
    "    langTweet = row['Language']\n",
    "    tweet = row['Tweet']\n",
    "    \n",
    "    for i in range(len(tweet)-2):\n",
    "        first = tweet[i]\n",
    "        second = tweet[i+1]\n",
    "        for lang in languages:\n",
    "            exec('if ((first not in {0}Alphabets.keys()) and (second not in {1}Alphabets.keys())):\\n\\\n",
    "    prob = {2}Model[-1][-1]\\n\\\n",
    "elif (second not in {3}Alphabets.keys()):\\n\\\n",
    "    index = {4}Alphabets[first]\\n\\\n",
    "    prob = {5}Model[index][-1]\\n\\\n",
    "elif (first not in {6}Alphabets.keys()):\\n\\\n",
    "    index = {7}Alphabets[second]\\n\\\n",
    "    prob = {8}Model[-1][index]\\n\\\n",
    "else:\\n\\\n",
    "    firstIndex = {9}Alphabets[first]\\n\\\n",
    "    secondIndex = {10}Alphabets[second]\\n\\\n",
    "    prob = {11}Model[firstIndex][secondIndex]\\n\\\n",
    "{12}Prob = prob + {13}Prob\\n'.format(lang, lang, lang, lang, lang, lang, lang, lang, lang, lang, lang, lang, lang, lang))\n",
    "    for langu in languages:\n",
    "        exec(\"probability['%s'] = %sProb\"%(langu, langu))\n",
    "#     probability[lang] = enProb\n",
    "#     print(probability)\n",
    "#     print('tweet: ', tweet,'\\nenProb:', enProb, '\\neuProb:', euProb, '\\nesProb:', esProb, '\\ncaProb:', caProb\n",
    "#     ,'\\nptProb:', ptProb, '\\nglProb:', glProb)\n",
    "    result = max(probability, key=probability.get)\n",
    "    print(tweetID, '  ', result, '  ', '%.2E' % Decimal(probability[result]), '  ', langTweet, 'correct' if (langTweet==result) else 'wrong')"
   ]
  },
  {
   "cell_type": "code",
   "execution_count": 31,
   "metadata": {},
   "outputs": [
    {
     "name": "stdout",
     "output_type": "stream",
     "text": [
      "439381946939232257    gl    -1.13E+02    es wrong\n",
      "439389330533273600    gl    -1.57E+02    es wrong\n",
      "439392779786285056    es    -7.80E+01    es correct\n",
      "439393603845373952    gl    -2.65E+01    es wrong\n",
      "439395306464346112    eu    -5.52E+01    eu correct\n",
      "439403680245493760    en    -3.03E+01    es wrong\n",
      "439407703358967808    es    -1.54E+02    es correct\n",
      "439408603167211520    gl    -1.25E+02    es wrong\n",
      "439410377286492160    gl    -1.50E+02    es wrong\n",
      "439411327971643392    gl    -1.56E+02    es wrong\n",
      "439414230413217792    eu    -1.64E+02    es wrong\n",
      "439415113045778432    eu    -3.21E+01    eu correct\n",
      "439420783698640896    ca    -3.44E+01    es wrong\n",
      "439428207222484992    eu    -3.00E+01    es wrong\n",
      "439435803983634432    es    -6.64E+01    es correct\n",
      "439437804352057344    es    -4.38E+01    es correct\n",
      "439438406117232640    es    -7.75E+01    es correct\n",
      "439449097658195968    gl    -1.69E+02    es wrong\n",
      "439455534304210944    eu    -8.17E+01    eu correct\n",
      "439460634212970496    eu    -6.73E+01    es wrong\n",
      "439461162816905216    es    -7.94E+01    es correct\n",
      "439461272560877569    es    -6.20E+01    es correct\n",
      "439467342360485888    eu    -6.14E+01    en wrong\n",
      "439473200100282368    es    -1.75E+01    es correct\n",
      "439480968534298625    es    -8.83E+01    es correct\n",
      "439482014878941185    en    -2.92E+01    es wrong\n",
      "439484110122524672    eu    -1.53E+02    es wrong\n",
      "439484501455302657    pt    -4.17E+01    es wrong\n",
      "439487980601106432    gl    -7.05E+01    es wrong\n",
      "439498752056123392    es    -1.20E+02    es correct\n",
      "439503131714797570    pt    -3.88E+01    es wrong\n",
      "439504494284800000    eu    -7.44E+01    eu correct\n",
      "439505183505387520    eu    -9.96E+01    es wrong\n",
      "439507371220828160    pt    -1.24E+02    es wrong\n",
      "439507713610231810    es    -2.58E+01    es correct\n",
      "439513724815421440    gl    -5.38E+01    es wrong\n",
      "439516149727117313    gl    -1.11E+02    es wrong\n",
      "439516952927952897    es    -6.15E+01    es correct\n",
      "439518973169008640    ca    -9.03E+01    es wrong\n",
      "439520703696883713    ca    -1.08E+01    es wrong\n",
      "439522984446144512    eu    -8.20E+01    es wrong\n",
      "439525439430995968    es    -5.66E+01    es correct\n",
      "439534259318312960    gl    -7.46E+01    es wrong\n",
      "439535499850813441    ca    -5.42E+01    es wrong\n",
      "439535613822664704    gl    -3.24E+01    es wrong\n",
      "439536938664878080    es    -1.25E+02    es correct\n",
      "439537235042766848    gl    -1.86E+02    es wrong\n",
      "439537999442112512    gl    -5.07E+01    es wrong\n",
      "439540887056838656    eu    -7.51E+01    es wrong\n",
      "439541111531790336    es    -8.41E+01    es correct\n",
      "439542604355870720    es    -1.84E+02    es correct\n",
      "439542606624993280    es    -6.08E+01    es correct\n",
      "439555042723766272    ca    -8.94E+01    es wrong\n",
      "439558368873971712    gl    -1.26E+02    es wrong\n",
      "439560861586558976    eu    -1.79E+02    es wrong\n",
      "439567982818525184    gl    -4.08E+01    es wrong\n",
      "439577257435463680    gl    -7.63E+01    es wrong\n",
      "439608667051405312    gl    -1.37E+02    es wrong\n",
      "439637547665612800    gl    -5.35E+01    es wrong\n",
      "439645755952070656    es    -1.30E+02    es correct\n",
      "439657427320180736    gl    -2.02E+02    es wrong\n",
      "439663966571495425    ca    -8.22E+01    es wrong\n",
      "439670178251829248    gl    -1.77E+02    es wrong\n",
      "439684933595197440    eu    -6.96E+01    es wrong\n",
      "439687870098726913    es    -3.53E+01    es correct\n",
      "439687998012395520    gl    -4.19E+01    es wrong\n",
      "439688683978248192    es    -7.71E+01    es correct\n",
      "439692909018099712    eu    -1.65E+01    eu correct\n",
      "439696075122028544    eu    -1.76E+02    es wrong\n",
      "439697970804834304    gl    -5.49E+01    es wrong\n",
      "439701625616474112    pt    -1.68E+01    es wrong\n",
      "439706164432224256    eu    -4.96E+01    eu correct\n",
      "439709342955474944    gl    -8.31E+01    es wrong\n",
      "439713198129025024    gl    -2.56E+01    es wrong\n",
      "439714893332508672    es    -2.95E+01    eu wrong\n",
      "439718759201509376    es    -2.93E+01    es correct\n",
      "439719845756940288    gl    -5.33E+01    es wrong\n",
      "439722026287529984    eu    -3.45E+01    es wrong\n",
      "439723376354287616    gl    -1.79E+02    es wrong\n",
      "439723585494859777    gl    -9.94E+01    es wrong\n",
      "439723745511743488    es    -3.12E+01    es correct\n",
      "439725940768538624    gl    -2.74E+01    es wrong\n",
      "439726309103898624    es    -1.25E+02    es correct\n",
      "439728314744586240    es    -5.56E+01    es correct\n",
      "439733759790030848    gl    -6.27E+01    es wrong\n",
      "439734193401397248    eu    -2.01E+01    en wrong\n",
      "439735656383012864    es    -3.35E+01    es correct\n",
      "439739248175226881    es    -2.30E+01    es correct\n",
      "439741213668020224    eu    -1.74E+02    es wrong\n",
      "439742711311380480    eu    -5.69E+01    es wrong\n",
      "439743216196521985    es    -5.99E+01    es correct\n",
      "439744756328169472    ca    -4.34E+01    es wrong\n",
      "439745131479322625    es    -2.97E+01    es correct\n",
      "439745133052186625    gl    -1.03E+02    es wrong\n",
      "439748495395020800    eu    -1.62E+02    es wrong\n",
      "439751898217070592    es    -9.24E+01    es correct\n",
      "439753018041708546    es    -1.96E+02    es correct\n",
      "439755659622776832    gl    -4.52E+01    es wrong\n",
      "439756762099351552    gl    -1.39E+01    es wrong\n",
      "439758392232792064    es    -2.95E+01    es correct\n"
     ]
    }
   ],
   "source": [
    "probability = {}\n",
    "for index, row in _df0.iterrows():\n",
    "    for language in languages:\n",
    "        exec(\"%sProb=math.log10(1/6)\" % (language))\n",
    "    tweetID = row['TweetID']\n",
    "    langTweet = row['Language']\n",
    "    tweet = row['Tweet']\n",
    "    \n",
    "    for i in range(len(tweet)-2):\n",
    "        first = tweet[i]\n",
    "        second = tweet[i+1]\n",
    "        for language in languages:\n",
    "            exec('if ((first not in {lang}Alphabets.keys()) and (second not in {lang}Alphabets.keys())):\\n\\\n",
    "    prob = {lang}Model[-1][-1]\\n\\\n",
    "elif (second not in {lang}Alphabets.keys()):\\n\\\n",
    "    index = {lang}Alphabets[first]\\n\\\n",
    "    prob = {lang}Model[index][-1]\\n\\\n",
    "elif (first not in {lang}Alphabets.keys()):\\n\\\n",
    "    index = {lang}Alphabets[second]\\n\\\n",
    "    prob = {lang}Model[-1][index]\\n\\\n",
    "else:\\n\\\n",
    "    firstIndex = {lang}Alphabets[first]\\n\\\n",
    "    secondIndex = {lang}Alphabets[second]\\n\\\n",
    "    prob = {lang}Model[firstIndex][secondIndex]\\n\\\n",
    "{lang}Prob = prob + {lang}Prob\\n'.format(lang=language))\n",
    "    for langu in languages:\n",
    "        exec(\"probability['%s'] = %sProb\"%(langu, langu))\n",
    "    result = max(probability, key=probability.get)\n",
    "    print(tweetID, '  ', result, '  ', '%.2E' % Decimal(probability[result]), '  ', langTweet, 'correct' if (langTweet==result) else 'wrong')"
   ]
  },
  {
   "cell_type": "code",
   "execution_count": 21,
   "metadata": {},
   "outputs": [
    {
     "name": "stdout",
     "output_type": "stream",
     "text": [
      "if ((first not in esAlphabets.keys()) and (second not in esAlphabets.keys())):\n",
      "    prob = esModel[-1][-1]\n",
      "elif (second not in esAlphabets.keys()):\n",
      "    index = esAlphabets[first]\n",
      "    prob = esModel[index][-1]\n",
      "elif (first not in esAlphabets.keys()):\n",
      "    index = esAlphabets[second]\n",
      "    prob = esModel[-1][index]\n",
      "else:\n",
      "    firstIndex = esAlphabets[first]\n",
      "    secondIndex = esAlphabets[second]\n",
      "    prob = esModel[firstIndex][secondIndex]\n",
      "esProb = prob + esProb\n",
      "\n"
     ]
    }
   ],
   "source": [
    "lang = 'es'\n",
    "str = 'if ((first not in {lang}Alphabets.keys()) and (second not in {lang}Alphabets.keys())):\\n\\\n",
    "    prob = {lang}Model[-1][-1]\\n\\\n",
    "elif (second not in {lang}Alphabets.keys()):\\n\\\n",
    "    index = {lang}Alphabets[first]\\n\\\n",
    "    prob = {lang}Model[index][-1]\\n\\\n",
    "elif (first not in {lang}Alphabets.keys()):\\n\\\n",
    "    index = {lang}Alphabets[second]\\n\\\n",
    "    prob = {lang}Model[-1][index]\\n\\\n",
    "else:\\n\\\n",
    "    firstIndex = {lang}Alphabets[first]\\n\\\n",
    "    secondIndex = {lang}Alphabets[second]\\n\\\n",
    "    prob = {lang}Model[firstIndex][secondIndex]\\n\\\n",
    "{lang}Prob = prob + {lang}Prob\\n'.format(lang=language)#, lang, lang, lang, lang, lang, lang, lang, lang, lang, lang, lang, lang, lang)\n",
    "print(str)"
   ]
  },
  {
   "cell_type": "code",
   "execution_count": null,
   "metadata": {},
   "outputs": [],
   "source": []
  }
 ],
 "metadata": {
  "kernelspec": {
   "display_name": "Python 3",
   "language": "python",
   "name": "python3"
  },
  "language_info": {
   "codemirror_mode": {
    "name": "ipython",
    "version": 3
   },
   "file_extension": ".py",
   "mimetype": "text/x-python",
   "name": "python",
   "nbconvert_exporter": "python",
   "pygments_lexer": "ipython3",
   "version": "3.7.4"
  }
 },
 "nbformat": 4,
 "nbformat_minor": 2
}
