{
 "cells": [
  {
   "cell_type": "markdown",
   "metadata": {},
   "source": [
    "# Confusion Matrix"
   ]
  },
  {
   "cell_type": "code",
   "execution_count": null,
   "metadata": {},
   "outputs": [],
   "source": [
    "from sklearn.metrics import confusion_matrix\n",
    "import numpy as np\n",
    "import pandas as pd\n",
    "import matplotlib.pyplot as plt"
   ]
  },
  {
   "cell_type": "code",
   "execution_count": 7,
   "metadata": {},
   "outputs": [],
   "source": [
    "def plot_confusion_matrix(df_confusion, title='Confusion matrix', cmap=plt.cm.gray_r):\n",
    "    plt.matshow(df_confusion, cmap=cmap) # imshow\n",
    "    plt.title(title, y=1.125, fontsize=12)\n",
    "    plt.colorbar()\n",
    "    tick_marks = np.arange(len(df_confusion.columns))\n",
    "    plt.xticks(tick_marks, df_confusion.columns)\n",
    "    plt.yticks(tick_marks, df_confusion.index)\n",
    "#     plt.tight_layout()\n",
    "    plt.ylabel(df_confusion.index.name)\n",
    "    plt.xlabel(df_confusion.columns.name)"
   ]
  },
  {
   "cell_type": "code",
   "execution_count": null,
   "metadata": {},
   "outputs": [],
   "source": [
    "df = pd.read_csv('../Outputs/trace_0_1_0.5.txt', delim_whitespace=True, header=0)\n",
    "y_actu = pd.Series(df['ACTUALVALUE']) #, name='Actual'\n",
    "y_pred = pd.Series(df['PREDICTEDVALUE']) #, name='Predicted'\n",
    "df_confusion = pd.crosstab(y_actu, y_pred)\n",
    "# print(df_confusion)\n",
    "# plot_confusion_matrix(df_confusion)\n",
    "dfMax = df_confusion.max(axis=1)\n",
    "df_conf_norm = df_confusion.divide(dfMax, axis=0)\n",
    "print(df_conf_norm)\n",
    "\n",
    "plot_confusion_matrix(df_conf_norm)"
   ]
  },
  {
   "cell_type": "code",
   "execution_count": null,
   "metadata": {},
   "outputs": [],
   "source": [
    "df = pd.read_csv('../Outputs/trace_1_1_0.5.txt', delim_whitespace=True, header=0)\n",
    "y_actu = pd.Series(df['ACTUALVALUE'], name='Actual')\n",
    "y_pred = pd.Series(df['PREDICTEDVALUE'], name='Predicted')\n",
    "df_confusion = pd.crosstab(y_actu, y_pred)\n",
    "# print(df_confusion)\n",
    "dfMax = df_confusion.max(axis=1)\n",
    "df_conf_norm = df_confusion.divide(dfMax, axis=0)\n",
    "# print(df_conf_norm)\n",
    "# plot_confusion_matrix(df_confusion)\n",
    "plot_confusion_matrix(df_conf_norm)"
   ]
  },
  {
   "cell_type": "code",
   "execution_count": null,
   "metadata": {},
   "outputs": [],
   "source": [
    "df = pd.read_csv('../Outputs/trace_2_1_0.5.txt', delim_whitespace=True, header=0)\n",
    "y_actu = pd.Series(df['ACTUALVALUE'], name='Actual')\n",
    "y_pred = pd.Series(df['PREDICTEDVALUE'], name='Predicted')\n",
    "df_confusion = pd.crosstab(y_actu, y_pred)\n",
    "# print(df_confusion)\n",
    "dfMax = df_confusion.max(axis=1)\n",
    "df_conf_norm = df_confusion.divide(dfMax, axis=0)\n",
    "# print(df_conf_norm)\n",
    "# plot_confusion_matrix(df_confusion)\n",
    "plot_confusion_matrix(df_conf_norm)"
   ]
  },
  {
   "cell_type": "code",
   "execution_count": 8,
   "metadata": {},
   "outputs": [
    {
     "name": "stdout",
     "output_type": "stream",
     "text": [
      "Predicted   ca   en    es   eu   gl    pt\n",
      "Actual                                   \n",
      "ca          44    9     7    3    5     7\n",
      "en          25  404    28   24   10    14\n",
      "es         483  367  1710  210  622   533\n",
      "eu          10   23     5  308   25     5\n",
      "gl           0    0     0    0    0     1\n",
      "pt         174  147   108   53  385  1153"
     ]
    },
    {
     "data": {
      "image/png": "[encoded data removed]",
      "text/plain": [
       "<Figure size 288x288 with 2 Axes>"
      ]
     },
     "metadata": {
      "needs_background": "light"
     },
     "output_type": "display_data"
    }
   ],
   "source": [
    "# df = pd.read_csv('../Outputs/trace_2_2_0.3_8_demo.txt', delim_whitespace=True, header=0)\n",
    "df = pd.read_csv('../Outputs/trace_0_1_0.5.txt', delim_whitespace=True, header=0)\n",
    "y_actu = pd.Series(df['ACTUALVALUE'], name='Actual')\n",
    "y_pred = pd.Series(df['PREDICTEDVALUE'], name='Predicted')\n",
    "df_confusion = pd.crosstab(y_actu, y_pred)\n",
    "print(df_confusion, end='')\n",
    "dfMax = df_confusion.max(axis=1)\n",
    "df_conf_norm = df_confusion.divide(dfMax, axis=0)\n",
    "# print(df_conf_norm)\n",
    "# plot_confusion_matrix(df_confusion)\n",
    "plot_confusion_matrix(df_conf_norm, '0_1_0.5_test-tweets-given')\n",
    "plt.savefig('0_1_0.5_test-tweet-given.png')"
   ]
  },
  {
   "cell_type": "code",
   "execution_count": 9,
   "metadata": {},
   "outputs": [
    {
     "name": "stdout",
     "output_type": "stream",
     "text": [
      "Predicted  ca   en    es   eu  gl    pt\n",
      "Actual                                 \n",
      "ca         61    1    11    0   0     2\n",
      "en          8  427    58    4   0     8\n",
      "es         31   28  3798   25  14    29\n",
      "eu          5    4    68  297   0     2\n",
      "gl          0    0     1    0   0     0\n",
      "pt         30   15   281    1   7  1686\n"
     ]
    },
    {
     "data": {
      "image/png": "[encoded data removed]",
      "text/plain": [
       "<Figure size 288x288 with 2 Axes>"
      ]
     },
     "metadata": {
      "needs_background": "light"
     },
     "output_type": "display_data"
    }
   ],
   "source": [
    "# df = pd.read_csv('../Outputs/trace_2_2_0.3_8_demo.txt', delim_whitespace=True, header=0)\n",
    "df = pd.read_csv('../Outputs/trace_0_3_1.0.txt', delim_whitespace=True, header=0)\n",
    "y_actu = pd.Series(df['ACTUALVALUE'], name='Actual')\n",
    "y_pred = pd.Series(df['PREDICTEDVALUE'], name='Predicted')\n",
    "df_confusion = pd.crosstab(y_actu, y_pred)\n",
    "print(df_confusion)\n",
    "dfMax = df_confusion.max(axis=1)\n",
    "df_conf_norm = df_confusion.divide(dfMax, axis=0)\n",
    "# print(df_conf_norm)\n",
    "# plot_confusion_matrix(df_confusion)\n",
    "plot_confusion_matrix(df_conf_norm, '0_3_1.0_test-tweets-given')\n",
    "plt.savefig('0_3_1.0_test-tweet-given.png')"
   ]
  },
  {
   "cell_type": "code",
   "execution_count": 10,
   "metadata": {},
   "outputs": [
    {
     "name": "stdout",
     "output_type": "stream",
     "text": [
      "Predicted  ca   en    es   eu  gl    pt\n",
      "Actual                                 \n",
      "ca         59    3    13    0   0     0\n",
      "en          4  444    48    5   0     4\n",
      "es         55   79  3638   74  34    45\n",
      "eu          5    4    44  319   0     4\n",
      "gl          0    0     0    0   0     1\n",
      "pt         50   26   305   10  24  1605\n"
     ]
    },
    {
     "data": {
      "image/png": "[encoded data removed]",
      "text/plain": [
       "<Figure size 288x288 with 2 Axes>"
      ]
     },
     "metadata": {
      "needs_background": "light"
     },
     "output_type": "display_data"
    }
   ],
   "source": [
    "df = pd.read_csv('../Outputs/trace_2_2_0.3_test-tweet-given.txt', delim_whitespace=True, header=0)\n",
    "y_actu = pd.Series(df['ACTUALVALUE'], name='Actual')\n",
    "y_pred = pd.Series(df['PREDICTEDVALUE'], name='Predicted')\n",
    "df_confusion = pd.crosstab(y_actu, y_pred)\n",
    "print(df_confusion)\n",
    "dfMax = df_confusion.max(axis=1)\n",
    "df_conf_norm = df_confusion.divide(dfMax, axis=0)\n",
    "# print(df_conf_norm)\n",
    "# plot_confusion_matrix(df_confusion)\n",
    "plot_confusion_matrix(df_conf_norm, '2_2_0.3_test-tweet-given')\n",
    "plt.savefig('2_2_0.3_test-tweet-given.png')"
   ]
  },
  {
   "cell_type": "code",
   "execution_count": 12,
   "metadata": {},
   "outputs": [
    {
     "name": "stdout",
     "output_type": "stream",
     "text": [
      "Predicted    ca   en    es  eu   gl  pt\n",
      "Actual                                 \n",
      "ca         1080   31   250   7    8  15\n",
      "en           17  397    62   1    1   5\n",
      "es           90  118  4134  24  131  88\n",
      "gl            7    6   267   1  180  43\n",
      "pt            1    1    16   1    0  77\n"
     ]
    },
    {
     "data": {
      "image/png": "[encoded data removed]",
      "text/plain": [
       "<Figure size 345.6x288 with 2 Axes>"
      ]
     },
     "metadata": {
      "needs_background": "light"
     },
     "output_type": "display_data"
    }
   ],
   "source": [
    "df = pd.read_csv('../Outputs/trace_2_2_0.3_8_demo.txt', delim_whitespace=True, header=0)\n",
    "y_actu = pd.Series(df['ACTUALVALUE'], name='Actual')\n",
    "y_pred = pd.Series(df['PREDICTEDVALUE'], name='Predicted')\n",
    "df_confusion = pd.crosstab(y_actu, y_pred)\n",
    "print(df_confusion)\n",
    "dfMax = df_confusion.max(axis=1)\n",
    "df_conf_norm = df_confusion.divide(dfMax, axis=0)\n",
    "# print(df_conf_norm)\n",
    "# plot_confusion_matrix(df_confusion)\n",
    "plot_confusion_matrix(df_conf_norm, '2_2_0.3_8_demo')\n",
    "plt.savefig('2_2_0.3_8_demo.png')"
   ]
  },
  {
   "cell_type": "code",
   "execution_count": 17,
   "metadata": {},
   "outputs": [
    {
     "name": "stdout",
     "output_type": "stream",
     "text": [
      "Predicted    ca   en    es  eu   gl  pt\n",
      "Actual                                 \n",
      "ca         1170   10   202   1    0   8\n",
      "en           27  367    83   5    0   1\n",
      "es           42   57  4299  13  104  70\n",
      "gl            4    3   318   0  152  27\n",
      "pt            2    0    17   0    1  76\n"
     ]
    },
    {
     "data": {
      "image/png": "[encoded data removed]",
      "text/plain": [
       "<Figure size 345.6x288 with 2 Axes>"
      ]
     },
     "metadata": {
      "needs_background": "light"
     },
     "output_type": "display_data"
    }
   ],
   "source": [
    "df = pd.read_csv('../Outputs/trace_2_3_0.1_8_demo_notBYOM.txt', delim_whitespace=True, header=0)\n",
    "y_actu = pd.Series(df['ACTUALVALUE'], name='Actual')\n",
    "y_pred = pd.Series(df['PREDICTEDVALUE'], name='Predicted')\n",
    "df_confusion = pd.crosstab(y_actu, y_pred)\n",
    "print(df_confusion)\n",
    "dfMax = df_confusion.max(axis=1)\n",
    "df_conf_norm = df_confusion.divide(dfMax, axis=0)\n",
    "# print(df_conf_norm)\n",
    "# plot_confusion_matrix(df_confusion)\n",
    "plot_confusion_matrix(df_conf_norm, '2_3_0.1_8_demo_notBYOM')\n",
    "plt.savefig('2_3_0.1_8_demo_notBYOM.png')"
   ]
  },
  {
   "cell_type": "code",
   "execution_count": 18,
   "metadata": {},
   "outputs": [
    {
     "name": "stdout",
     "output_type": "stream",
     "text": [
      "Predicted    ca   en    es  eu   gl  pt\n",
      "Actual                                 \n",
      "ca         1145    9   215   4    1  17\n",
      "en           12  387    73   5    0   6\n",
      "es           19   52  4385   5   59  65\n",
      "gl            2    2   325   0  149  26\n",
      "pt            2    0    19   0    0  75\n"
     ]
    },
    {
     "data": {
      "image/png": "[encoded data removed]",
      "text/plain": [
       "<Figure size 345.6x288 with 2 Axes>"
      ]
     },
     "metadata": {
      "needs_background": "light"
     },
     "output_type": "display_data"
    }
   ],
   "source": [
    "df = pd.read_csv('../Outputs/trace_2_3_0.1_demo_BYOM.txt', delim_whitespace=True, header=0)\n",
    "y_actu = pd.Series(df['ACTUALVALUE'], name='Actual')\n",
    "y_pred = pd.Series(df['PREDICTEDVALUE'], name='Predicted')\n",
    "df_confusion = pd.crosstab(y_actu, y_pred)\n",
    "print(df_confusion)\n",
    "dfMax = df_confusion.max(axis=1)\n",
    "df_conf_norm = df_confusion.divide(dfMax, axis=0)\n",
    "# print(df_conf_norm)\n",
    "# plot_confusion_matrix(df_confusion)\n",
    "plot_confusion_matrix(df_conf_norm, '2_3_0.1_demo_BYOM')\n",
    "plt.savefig('2_3_0.1_demo_BYOM.png')"
   ]
  },
  {
   "cell_type": "code",
   "execution_count": 21,
   "metadata": {},
   "outputs": [
    {
     "name": "stdout",
     "output_type": "stream",
     "text": [
      "Predicted  ca   en    es   eu  gl    pt\n",
      "Actual                                 \n",
      "ca         60    1    10    1   0     3\n",
      "en          9  434    50    4   1     7\n",
      "es         41   34  3747   34  34    35\n",
      "eu          6    4    57  307   0     2\n",
      "gl          0    0     1    0   0     0\n",
      "pt         31   18   252    3  14  1702\n"
     ]
    },
    {
     "data": {
      "image/png": "[encoded data removed]",
      "text/plain": [
       "<Figure size 288x288 with 2 Axes>"
      ]
     },
     "metadata": {
      "needs_background": "light"
     },
     "output_type": "display_data"
    }
   ],
   "source": [
    "df = pd.read_csv('../Outputs/trace_0_3_0.5_NOTBYOM.txt', delim_whitespace=True, header=0)\n",
    "y_actu = pd.Series(df['ACTUALVALUE'], name='Actual')\n",
    "y_pred = pd.Series(df['PREDICTEDVALUE'], name='Predicted')\n",
    "df_confusion = pd.crosstab(y_actu, y_pred)\n",
    "print(df_confusion)\n",
    "dfMax = df_confusion.max(axis=1)\n",
    "df_conf_norm = df_confusion.divide(dfMax, axis=0)\n",
    "# print(df_conf_norm)\n",
    "# plot_confusion_matrix(df_confusion)\n",
    "plot_confusion_matrix(df_conf_norm, '0_3_0.5_NOTBYOM')\n",
    "plt.savefig('trace_0_3_0.5_NOTBYOM.png')"
   ]
  },
  {
   "cell_type": "code",
   "execution_count": 22,
   "metadata": {},
   "outputs": [
    {
     "name": "stdout",
     "output_type": "stream",
     "text": [
      "Predicted  ca   en    es   eu  gl    pt\n",
      "Actual                                 \n",
      "ca         59    2    13    0   0     1\n",
      "en          4  436    56    1   0     8\n",
      "es         26   18  3811   26   8    36\n",
      "eu          7    1    45  321   0     2\n",
      "gl          0    0     1    0   0     0\n",
      "pt         20   15   258    1   9  1717\n"
     ]
    },
    {
     "data": {
      "image/png": "[encoded data removed]",
      "text/plain": [
       "<Figure size 288x288 with 2 Axes>"
      ]
     },
     "metadata": {
      "needs_background": "light"
     },
     "output_type": "display_data"
    }
   ],
   "source": [
    "df = pd.read_csv('../Outputs/trace_0_3_0.5.txt', delim_whitespace=True, header=0)\n",
    "y_actu = pd.Series(df['ACTUALVALUE'], name='Actual')\n",
    "y_pred = pd.Series(df['PREDICTEDVALUE'], name='Predicted')\n",
    "df_confusion = pd.crosstab(y_actu, y_pred)\n",
    "print(df_confusion)\n",
    "dfMax = df_confusion.max(axis=1)\n",
    "df_conf_norm = df_confusion.divide(dfMax, axis=0)\n",
    "# print(df_conf_norm)\n",
    "# plot_confusion_matrix(df_confusion)\n",
    "plot_confusion_matrix(df_conf_norm, '0_3_0.5_BYOM')\n",
    "plt.savefig('trace_0_3_0.5_BYOM.png')"
   ]
  },
  {
   "cell_type": "code",
   "execution_count": null,
   "metadata": {},
   "outputs": [],
   "source": [
    "TN=50\n",
    "TP=50\n",
    "FN=50\n",
    "FP=50\n",
    "indent = '         '\n",
    "print(indent,'Actual', '', 'Actual')\n",
    "print(indent,'correct', 'false')\n",
    "print('Predicted','------------')\n",
    "print('correct','  |',TP,'|',FP,'|')\n",
    "print('predicted','------------')\n",
    "print('false','    |',FN,'|',TN,'|')\n",
    "print(indent,'------------')"
   ]
  },
  {
   "cell_type": "code",
   "execution_count": null,
   "metadata": {},
   "outputs": [],
   "source": []
  }
 ],
 "metadata": {
  "kernelspec": {
   "display_name": "Python 3",
   "language": "python",
   "name": "python3"
  },
  "language_info": {
   "codemirror_mode": {
    "name": "ipython",
    "version": 3
   },
   "file_extension": ".py",
   "mimetype": "text/x-python",
   "name": "python",
   "nbconvert_exporter": "python",
   "pygments_lexer": "ipython3",
   "version": "3.7.4"
  }
 },
 "nbformat": 4,
 "nbformat_minor": 2
}
