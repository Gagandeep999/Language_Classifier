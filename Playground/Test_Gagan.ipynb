{
 "cells": [
  {
   "cell_type": "code",
   "execution_count": null,
   "metadata": {},
   "outputs": [],
   "source": [
    "import pandas as pd\n",
    "import re\n",
    "import math\n",
    "from collections import defaultdict"
   ]
  },
  {
   "cell_type": "code",
   "execution_count": null,
   "metadata": {},
   "outputs": [],
   "source": [
    "df = pd.read_csv('../OriginalDataSet/training-tweets.txt', encoding='utf-8', error_bad_lines=False, sep='\\t', nrows=15000)\n",
    "df.columns = ['TweetID', 'UserID', 'Language', \"Tweet\"]"
   ]
  },
  {
   "cell_type": "code",
   "execution_count": null,
   "metadata": {},
   "outputs": [],
   "source": [
    "_df0 = df[['Language', 'Tweet']].copy()\n",
    "pattern = re.compile('[a-z ]')\n",
    "_df0.head()"
   ]
  },
  {
   "cell_type": "code",
   "execution_count": null,
   "metadata": {},
   "outputs": [],
   "source": [
    "trainDict = defaultdict(list)\n",
    "for index, row in _df0.iterrows():\n",
    "    sentence = ''\n",
    "    tweet = row['Tweet']\n",
    "    tweet = tweet.lower()\n",
    "    for letter in tweet:\n",
    "        if pattern.match(letter):\n",
    "            sentence = sentence + letter\n",
    "    trainDict[row['Language']].append(sentence)"
   ]
  },
  {
   "cell_type": "code",
   "execution_count": null,
   "metadata": {},
   "outputs": [],
   "source": [
    "enDict = {}\n",
    "esDict = {}\n",
    "euDict = {}\n",
    "caDict = {}\n",
    "ptDict = {}\n",
    "glDict = {}\n",
    "for key, value in trainDict.items():\n",
    "    #get the dictionary corresponding to the language(key)\n",
    "    bigramCount = 0\n",
    "    if 'en' in key:\n",
    "        for eachTweet in value:\n",
    "            for i in range(len(eachTweet)-1):\n",
    "                first = eachTweet[i]\n",
    "                second = eachTweet[i+1]\n",
    "                if ((not first.isspace()) and (not second.isspace())):\n",
    "                    bigram = first + second\n",
    "                    if bigram in enDict:\n",
    "                        count = enDict[bigram]\n",
    "                        count += 1\n",
    "                        enDict[bigram] = count\n",
    "                        bigramCount += 1\n",
    "                    else:\n",
    "                        enDict[bigram] = 1\n",
    "                        bigramCount += 1\n",
    "        enDict = {k: math.log10(v/bigramCount) for k, v in enDict.items()}\n",
    "    elif 'es' in key:\n",
    "        for eachTweet in value:\n",
    "            for i in range(len(eachTweet)-1):\n",
    "                first = eachTweet[i]\n",
    "                second = eachTweet[i+1]\n",
    "                if ((not first.isspace()) and (not second.isspace())):\n",
    "                    bigram = first + second\n",
    "                    if bigram in esDict:\n",
    "                        count = esDict[bigram]\n",
    "                        count += 1\n",
    "                        esDict[bigram] = count\n",
    "                        bigramCount += 1\n",
    "                    else:\n",
    "                        esDict[bigram] = 1\n",
    "                        bigramCount += 1\n",
    "        esDict = {k: math.log10(v/bigramCount) for k, v in esDict.items()}\n",
    "    elif 'eu' in key:\n",
    "        for eachTweet in value:\n",
    "            for i in range(len(eachTweet)-1):\n",
    "                first = eachTweet[i]\n",
    "                second = eachTweet[i+1]\n",
    "                if ((not first.isspace()) and (not second.isspace())):\n",
    "                    bigram = first + second\n",
    "                    if bigram in euDict:\n",
    "                        count = euDict[bigram]\n",
    "                        count += 1\n",
    "                        euDict[bigram] = count\n",
    "                        bigramCount += 1\n",
    "                    else:\n",
    "                        euDict[bigram] = 1\n",
    "                        bigramCount += 1\n",
    "        euDict = {k: math.log10(v/bigramCount) for k, v in euDict.items()}\n",
    "    elif 'ca' in key:\n",
    "        for eachTweet in value:\n",
    "            for i in range(len(eachTweet)-1):\n",
    "                first = eachTweet[i]\n",
    "                second = eachTweet[i+1]\n",
    "                if ((not first.isspace()) and (not second.isspace())):\n",
    "                    bigram = first + second\n",
    "                    if bigram in caDict:\n",
    "                        count = caDict[bigram]\n",
    "                        count += 1\n",
    "                        caDict[bigram] = count\n",
    "                        bigramCount += 1\n",
    "                    else:\n",
    "                        caDict[bigram] = 1\n",
    "                        bigramCount += 1\n",
    "        caDict = {k: math.log(v/bigramCount) for k, v in caDict.items()}\n",
    "    elif 'pt' in key:\n",
    "        for eachTweet in value:\n",
    "            for i in range(len(eachTweet)-1):\n",
    "                first = eachTweet[i]\n",
    "                second = eachTweet[i+1]\n",
    "                if ((not first.isspace()) and (not second.isspace())):\n",
    "                    bigram = first + second\n",
    "                    if bigram in ptDict:\n",
    "                        count = ptDict[bigram]\n",
    "                        count += 1\n",
    "                        ptDict[bigram] = count\n",
    "                        bigramCount += 1\n",
    "                    else:\n",
    "                        ptDict[bigram] = 1\n",
    "                        bigramCount += 1\n",
    "        ptDict = {k: math.log(v/bigramCount) for k, v in ptDict.items()}\n",
    "    elif 'gl' in key:\n",
    "        for eachTweet in value:\n",
    "            for i in range(len(eachTweet)-1):\n",
    "                first = eachTweet[i]\n",
    "                second = eachTweet[i+1]\n",
    "                if ((not first.isspace()) and (not second.isspace())):\n",
    "                    bigram = first + second\n",
    "                    if bigram in glDict:\n",
    "                        count = glDict[bigram]\n",
    "                        count += 1\n",
    "                        glDict[bigram] = count\n",
    "                        bigramCount += 1\n",
    "                    else:\n",
    "                        glDict[bigram] = 1\n",
    "                        bigramCount += 1\n",
    "        glDict = {k: math.log(v/bigramCount) for k, v in glDict.items()}"
   ]
  },
  {
   "cell_type": "code",
   "execution_count": null,
   "metadata": {},
   "outputs": [],
   "source": [
    "print(len(enDict.keys()))\n",
    "print(enDict)"
   ]
  },
  {
   "cell_type": "code",
   "execution_count": null,
   "metadata": {},
   "outputs": [],
   "source": [
    "print(len(esDict.keys()))\n",
    "print(esDict)"
   ]
  },
  {
   "cell_type": "code",
   "execution_count": null,
   "metadata": {},
   "outputs": [],
   "source": [
    "print(len(euDict.keys()))\n",
    "print(euDict)"
   ]
  },
  {
   "cell_type": "code",
   "execution_count": null,
   "metadata": {},
   "outputs": [],
   "source": [
    "print(len(caDict.keys()))\n",
    "print(caDict)"
   ]
  },
  {
   "cell_type": "code",
   "execution_count": null,
   "metadata": {},
   "outputs": [],
   "source": [
    "print(len(ptDict.keys()))\n",
    "print(ptDict)"
   ]
  },
  {
   "cell_type": "code",
   "execution_count": null,
   "metadata": {},
   "outputs": [],
   "source": [
    "print(len(glDict.keys()))\n",
    "print(glDict)"
   ]
  }
 ],
 "metadata": {
  "kernelspec": {
   "display_name": "Python 3",
   "language": "python",
   "name": "python3"
  },
  "language_info": {
   "codemirror_mode": {
    "name": "ipython",
    "version": 3
   },
   "file_extension": ".py",
   "mimetype": "text/x-python",
   "name": "python",
   "nbconvert_exporter": "python",
   "pygments_lexer": "ipython3",
   "version": "3.7.4"
  }
 },
 "nbformat": 4,
 "nbformat_minor": 2
}
