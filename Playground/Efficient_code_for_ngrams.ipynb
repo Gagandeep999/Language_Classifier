{
 "cells": [
  {
   "cell_type": "code",
   "execution_count": 1,
   "metadata": {},
   "outputs": [
    {
     "name": "stdout",
     "output_type": "stream",
     "text": [
      "numpy:  1.17.2\n",
      "pandas:  1.0.3\n"
     ]
    }
   ],
   "source": [
    "from collections import defaultdict\n",
    "import math\n",
    "import pandas as pd\n",
    "import re\n",
    "from datetime import datetime \n",
    "import numpy as np\n",
    "from decimal import Decimal\n",
    "import matplotlib.pyplot as plt\n",
    "import pylab\n",
    "\n",
    "print('numpy: ',np.version.version)\n",
    "print('pandas: ',pd.__version__)"
   ]
  },
  {
   "cell_type": "code",
   "execution_count": 2,
   "metadata": {},
   "outputs": [],
   "source": [
    "defaultSmoothing = 10e-10\n",
    "languages = ['en', 'es', 'eu', 'ca', 'pt', 'gl']\n",
    "for language in languages:\n",
    "    exec(\"%sAlphabets={}\" % (language))\n",
    "    exec ('{0}Size = 0'.format(language))"
   ]
  },
  {
   "cell_type": "code",
   "execution_count": 3,
   "metadata": {},
   "outputs": [
    {
     "name": "stderr",
     "output_type": "stream",
     "text": [
      "b'Skipping line 17: expected 4 fields, saw 5\\nSkipping line 33: expected 4 fields, saw 5\\nSkipping line 44: expected 4 fields, saw 5\\nSkipping line 58: expected 4 fields, saw 5\\nSkipping line 61: expected 4 fields, saw 5\\nSkipping line 64: expected 4 fields, saw 5\\nSkipping line 74: expected 4 fields, saw 5\\nSkipping line 91: expected 4 fields, saw 5\\nSkipping line 99: expected 4 fields, saw 5\\nSkipping line 140: expected 4 fields, saw 5\\nSkipping line 145: expected 4 fields, saw 5\\nSkipping line 148: expected 4 fields, saw 5\\nSkipping line 152: expected 4 fields, saw 5\\nSkipping line 171: expected 4 fields, saw 5\\nSkipping line 178: expected 4 fields, saw 5\\nSkipping line 197: expected 4 fields, saw 5\\nSkipping line 201: expected 4 fields, saw 5\\nSkipping line 203: expected 4 fields, saw 5\\nSkipping line 213: expected 4 fields, saw 5\\nSkipping line 216: expected 4 fields, saw 5\\n'\n"
     ]
    },
    {
     "name": "stdout",
     "output_type": "stream",
     "text": [
      "Reading time (hh:mm:ss.ms) 0:00:29.117549\n"
     ]
    }
   ],
   "source": [
    "df = pd.read_csv('../OriginalDataSet/training-tweets.txt', encoding='utf-8', error_bad_lines=False, sep='\\t')#, nrows=1000)\n",
    "df.columns = ['TweetID', 'UserID', 'Language', \"Tweet\"]\n",
    "_df0 = df[['Language', 'Tweet']].copy()\n",
    "pattern = re.compile('[]')\n",
    "_df0.head()\n",
    "start_time = datetime.now() \n",
    "trainDict = defaultdict(list)\n",
    "for index, row in _df0.iterrows():\n",
    "    sentence = ''\n",
    "    tweet = row['Tweet']\n",
    "    language = row['Language']\n",
    "    for letter in tweet:\n",
    "        if letter.isalpha() or pattern.match(letter):\n",
    "            exec('if \\'{0}\\' not in {1}Alphabets.keys():\\n\\\n",
    "                     {2}Alphabets[letter] = {3}Size\\n\\\n",
    "                     {4}Size += 1'.format(letter, language, language, language, language))\n",
    "            sentence = sentence + letter\n",
    "    trainDict[row['Language']].append(sentence)\n",
    "print('Reading time (hh:mm:ss.ms) {}'.format(datetime.now() - start_time ))"
   ]
  },
  {
   "cell_type": "code",
   "execution_count": null,
   "metadata": {},
   "outputs": [],
   "source": [
    "print(trainDict.keys())"
   ]
  },
  {
   "cell_type": "markdown",
   "metadata": {},
   "source": [
    "# UNIGRAMS"
   ]
  },
  {
   "cell_type": "code",
   "execution_count": 6,
   "metadata": {},
   "outputs": [
    {
     "name": "stdout",
     "output_type": "stream",
     "text": [
      "Training time (hh:mm:ss.ms) 0:00:26.512614\n"
     ]
    }
   ],
   "source": [
    "for language in languages:\n",
    "    exec(\"%sModel=np.zeros(shape=(%sSize+1))\" %(language, language))\n",
    "    exec('{L}Model = np.add({L}Model, defaultSmoothing)'.format(L=language))\n",
    "\n",
    "start_time = datetime.now()\n",
    "delta = 0\n",
    "for language, tweets in trainDict.items():\n",
    "    for tweet in tweets:\n",
    "        for i in range(len(tweet)-1):\n",
    "            first = tweet[i]\n",
    "            exec('index = %sAlphabets[first]'%(language)) #index = esAlphabets[first] #get index of the character from the language dictionary \n",
    "            exec('%sModel[index] += 1'%(language)) #increment that index in the language model\n",
    "for language in languages:\n",
    "    exec('%sModel = np.add(%sModel, delta)'%(language, language)) #this is where smoothing happens\n",
    "    exec('%sModel = np.divide(%sModel, %sModel.sum(axis=0))'%(language, language, language)) #divide all the values by the sum of the row\n",
    "    exec('%sModel = np.log10(%sModel)'%(language, language))\n",
    "print('Training time (hh:mm:ss.ms) {}'.format(datetime.now() - start_time ))"
   ]
  },
  {
   "cell_type": "markdown",
   "metadata": {},
   "source": [
    "# BIGRAMS"
   ]
  },
  {
   "cell_type": "code",
   "execution_count": null,
   "metadata": {},
   "outputs": [],
   "source": [
    "for language in languages:\n",
    "    exec(\"%sModel=np.zeros(shape=((%sSize+1),(%sSize+1))) \" %(language, language, language))\n",
    "    exec('{L}Model = np.add({L}Model, defaultSmoothing)'.format(L=language))\n",
    "    \n",
    "start_time = datetime.now()\n",
    "delta = 0\n",
    "for language, tweets in trainDict.items():\n",
    "    for tweet in tweets:\n",
    "        for i in range(len(tweet)-2):\n",
    "            first = tweet[i]\n",
    "            second = tweet[i+1]\n",
    "            exec('firstIndex = %sAlphabets[first]'%(language))\n",
    "            exec('secondIndex = %sAlphabets[second]'%(language))\n",
    "            exec('%sModel[firstIndex][secondIndex] += 1'%(language))\n",
    "# here the Model.sum(axis=1) instead of axis=0 for uni/trigrams. Helps to avoid haveing a loop for every row of 2D array.\n",
    "for language in languages:\n",
    "    exec('%sModel = np.add(%sModel, delta)'%(language, language)) #this is where smoothing happens\n",
    "    exec('%sModel = %sModel/%sModel.sum(axis=1)'%(language, language, language)) #divide all the values by the sum of the row\n",
    "    exec('%sModel = np.log10(%sModel)'%(language, language))\n",
    "print('Training time (hh:mm:ss.ms) {}'.format(datetime.now() - start_time ))"
   ]
  },
  {
   "cell_type": "markdown",
   "metadata": {},
   "source": [
    "## SAVE MODEL FOR 1D OR 2D\n",
    "\n",
    "```python\n",
    "for language in languages:\n",
    "    exec('np.savetxt(\\'{L}ModelBigram.model\\', {L}Model, delimiter=\\',\\', fmt=\\'%1.2e\\')'.format(L=language))\n",
    "``` "
   ]
  },
  {
   "cell_type": "code",
   "execution_count": null,
   "metadata": {},
   "outputs": [],
   "source": [
    "for language in languages:\n",
    "    exec('np.savetxt(\\'{L}ModelBigram.model\\', {L}Model, delimiter=\\',\\', fmt=\\'%1.2e\\')'.format(L=language))"
   ]
  },
  {
   "cell_type": "markdown",
   "metadata": {},
   "source": [
    "# TRIGRAMS"
   ]
  },
  {
   "cell_type": "code",
   "execution_count": null,
   "metadata": {},
   "outputs": [],
   "source": [
    "for language in languages:\n",
    "    exec('{lang}Model=np.zeros(shape=(({lang}Size+1),({lang}Size+1),({lang}Size+1)))'.format(lang=language))#, language, language, language))\n",
    "    exec('{L}Model = np.add({L}Model, defaultSmoothing)'.format(L=language))\n",
    "    \n",
    "start_time = datetime.now()\n",
    "delta = 0.5\n",
    "for language, tweets in trainDict.items():\n",
    "    for tweet in tweets:\n",
    "        for i in range(len(tweet)-2):\n",
    "            first = tweet[i]\n",
    "            second = tweet[i+1]\n",
    "            third = tweet[i+2]\n",
    "            exec('firstIndex = %sAlphabets[first]'%(language))\n",
    "            exec('secondIndex = %sAlphabets[second]'%(language))\n",
    "            exec('thirdIndex = %sAlphabets[third]'%(language))\n",
    "            exec('%sModel[firstIndex][secondIndex][thirdIndex] += 1'%(language))\n",
    "for language in languages:\n",
    "    exec('for x in range({lang}Model.shape[0]):\\n\\\n",
    "    for y in range({lang}Model.shape[1]):\\n\\\n",
    "        {lang}ModelTemp = {lang}Model[x,y,:]\\n\\\n",
    "        {lang}ModelTemp = np.add({lang}ModelTemp, delta)\\n\\\n",
    "        {lang}ModelTemp = np.divide({lang}ModelTemp, {lang}ModelTemp.sum(axis=0))\\n\\\n",
    "        {lang}ModelTemp = np.log10({lang}ModelTemp)\\n\\\n",
    "        {lang}Model[x,y,:] = {lang}ModelTemp\\n'.format(lang=language))\n",
    "\n",
    "print('Training time (hh:mm:ss.ms) {}'.format(datetime.now() - start_time ))"
   ]
  },
  {
   "cell_type": "markdown",
   "metadata": {},
   "source": [
    "## SAVE MODEL FOR 3D\n",
    "\n",
    "```python\n",
    "for language in languages:\n",
    "    exec('outfile = open(\\'{L}ModelTrigram.model\\', \\'w\\')\\n\\\n",
    "    print(\\'# Shape \\', {L}Model.shape, file=outfile)\\n\\\n",
    "    outfile.flush()\\n\\\n",
    "    print(\\'# To load model - new_data = np.loadtxt(filename)\\', file=outfile)\\n\\\n",
    "    outfile.flush()\\n\\\n",
    "    print(\\'# Reshape the data - new_data = new_data.reshape((shape))\\', file=outfile)\\n\\\n",
    "    outfile.flush()\\n\\\n",
    "    for data_slice in {L}Model:\\n\\\n",
    "        np.savetxt(outfile, data_slice, delimiter=\\',\\', fmt=\\'%1.2e\\')'.format(L=language))\n",
    "``` "
   ]
  },
  {
   "cell_type": "markdown",
   "metadata": {},
   "source": [
    "# PLOTTING UNIGRAM MODEL"
   ]
  },
  {
   "cell_type": "code",
   "execution_count": 8,
   "metadata": {},
   "outputs": [
    {
     "name": "stdout",
     "output_type": "stream",
     "text": [
      "x:\n",
      " [ 0  1  2  3  4  5  6  7  8  9 10 11 12 13 14 15 16 17 18 19 20 21 22 23\n",
      " 24 25 26 27 28 29 30 31 32 33 34 35 36 37 38 39 40 41 42 43 44 45 46 47\n",
      " 48 49 50 51 52 53 54 55 56 57 58 59 60 61 62 63 64 65 66 67 68 69 70 71\n",
      " 72 73 74 75 76 77]\n",
      "dict_keys(['I', 'M', ' ', 'C', 'O', 'N', 'F', 'U', 'S', 'E', 'D', 'W', 'H', 'A', 'T', 'R', 'L', 'J', 'j', 'u', 's', 't', 'i', 'n', 'b', 'e', 'r', 'a', 'f', 'o', 'd', 'y', 'p', 'h', 'P', 'm', 'l', 'c', 'Q', 'Z', 'B', 'z', 'v', 'g', 'k', 'w', 'Y', 'x', 'K', 'V', 'X', 'q', 'G', 'á', 'ñ', 'Ú', 'í', 'è', 'ó', 'ü', 'é', 'ç', 'ã', 'à', 'ā', 'ò', 'б', 'а', 'р', 'с', 'е', 'л', 'о', 'н', 'É', 'º', 'Ó'])\n",
      "y:\n",
      " [ -1.96660524  -2.22401122  -0.80594876  -2.36989872  -2.2723159\n",
      "  -2.34060934  -2.45518256  -2.50967682  -2.00264395  -2.07224846\n",
      "  -2.43321356  -2.36654507  -2.36821866  -2.13707983  -2.0816807\n",
      "  -2.29721858  -2.18823236  -2.40130718  -2.2790913   -1.61008452\n",
      "  -1.38479614  -1.17578253  -1.30584723  -1.3387252   -1.77590898\n",
      "  -1.09658334  -1.40952751  -1.19101096  -1.92238012  -1.21249584\n",
      "  -1.69020326  -1.72537616  -1.74289826  -1.50620707  -2.34694952\n",
      "  -1.71296153  -1.4796207   -1.67025591  -3.14804997  -2.99618859\n",
      "  -2.37668471  -2.39591215  -2.11220154  -1.85261073  -2.00120111\n",
      "  -1.90819782  -2.65766678  -2.63229931  -2.76448508  -2.51434669\n",
      "  -2.93642038  -2.79029235  -2.45313882  -3.82727591  -3.93642038\n",
      "  -4.78151842  -3.66757507  -4.17945843  -3.70233718  -4.78151842\n",
      "  -3.82727591  -4.17945843  -4.30439717  -4.08254842  -4.78151842\n",
      "  -4.30439717  -4.78151842  -4.48048843  -4.78151842  -4.78151842\n",
      "  -4.78151842  -4.78151842  -4.78151842  -4.78151842  -4.48048843\n",
      "  -4.78151842  -4.78151842 -13.78151842]\n"
     ]
    },
    {
     "data": {
      "image/png": "[encoded data removed]",
      "text/plain": [
       "<Figure size 1080x216 with 1 Axes>"
      ]
     },
     "metadata": {
      "needs_background": "light"
     },
     "output_type": "display_data"
    }
   ],
   "source": [
    "x = np.asarray(list(enAlphabets.values()))\n",
    "x = np.append(x, (x.shape[0]))\n",
    "y = enModel\n",
    "print('x:\\n', x)\n",
    "print(enAlphabets.keys())\n",
    "print('y:\\n', y)\n",
    "\n",
    "fig = plt.figure()\n",
    "fig.set_size_inches(15, 3)\n",
    "area = (10 * np.random.rand(x.shape[0]))**2\n",
    "colors = np.random.rand(x.shape[0])\n",
    "plt.title('SUQ MADIQ')\n",
    "plt.xlabel('Alphabets')\n",
    "plt.ylabel('Probability of alphabet')\n",
    "plt.scatter(x, y, s=area, c=colors, alpha=0.7)\n",
    "plt.xticks(x, list(enAlphabets.keys()))\n",
    "plt.tick_params(axis='x', which='minor', labelsize=10, width = 5)"
   ]
  },
  {
   "cell_type": "code",
   "execution_count": null,
   "metadata": {},
   "outputs": [],
   "source": []
  }
 ],
 "metadata": {
  "kernelspec": {
   "display_name": "Python 3",
   "language": "python",
   "name": "python3"
  },
  "language_info": {
   "codemirror_mode": {
    "name": "ipython",
    "version": 3
   },
   "file_extension": ".py",
   "mimetype": "text/x-python",
   "name": "python",
   "nbconvert_exporter": "python",
   "pygments_lexer": "ipython3",
   "version": "3.7.4"
  }
 },
 "nbformat": 4,
 "nbformat_minor": 2
}
