{
 "cells": [
  {
   "cell_type": "code",
   "execution_count": null,
   "metadata": {},
   "outputs": [],
   "source": [
    "from collections import defaultdict\n",
    "import math\n",
    "trainDict = defaultdict(list)"
   ]
  },
  {
   "cell_type": "code",
   "execution_count": null,
   "metadata": {},
   "outputs": [],
   "source": [
    "#Sample from the training set\n",
    "trainDict = {'en': ['im confused what is the real justin justinbieber jbbstratfordboy jdbstratfordboy', 'just posted a photo  pamplona spain httptcoqdaqazsb', 'alinazasoro have a very good day asieryou know that you can get a very good marc'],\n",
    "             'es': ['pedazo de tarta k me e kurrao ske k buena soy en todo lo k hago jajajajaja httptcooeslfdxl', 'no hace falta que te digan que vas a morir para empezar a vivir'],\n",
    "             'ca': ['joseepcoll saps q si primo arraun remo illunbe trintxerpe et fotr una pallissota quan vengui per pascu arrebet '], \n",
    "             'eu': ['anderruiz  barkauu nere', 'aitorlakun inbidi pixkat eman beharko zaizu ordun p jojojojo']}"
   ]
  },
  {
   "cell_type": "code",
   "execution_count": null,
   "metadata": {},
   "outputs": [],
   "source": [
    "enDict = {}\n",
    "esDict = {}\n",
    "caDict = {}\n",
    "euDict = {}\n",
    "for key, value in trainDict.items():\n",
    "    #get the dictionary corresponding to the language(key)\n",
    "    bigramCount = 0\n",
    "    if 'en' in key:\n",
    "        for eachTweet in value:\n",
    "            for i in range(len(eachTweet)-1):\n",
    "                first = eachTweet[i]\n",
    "                second = eachTweet[i+1]\n",
    "                if ((not first.isspace()) and (not second.isspace())):\n",
    "                    bigram = first + second\n",
    "                    if bigram in enDict:\n",
    "                        count = enDict[bigram]\n",
    "                        count += 1\n",
    "                        enDict[bigram] = count\n",
    "                        bigramCount += 1\n",
    "                    else:\n",
    "                        enDict[bigram] = 1\n",
    "                        bigramCount += 1\n",
    "        enDict = {k: math.log10(v/bigramCount) for k, v in enDict.items()}\n",
    "    elif 'es' in key:\n",
    "        for eachTweet in value:\n",
    "            for i in range(len(eachTweet)-1):\n",
    "                first = eachTweet[i]\n",
    "                second = eachTweet[i+1]\n",
    "                if ((not first.isspace()) and (not second.isspace())):\n",
    "                    bigram = first + second\n",
    "                    if bigram in esDict:\n",
    "                        count = esDict[bigram]\n",
    "                        count += 1\n",
    "                        esDict[bigram] = count\n",
    "                        bigramCount += 1\n",
    "                    else:\n",
    "                        esDict[bigram] = 1\n",
    "                        bigramCount += 1\n",
    "        esDict = {k: math.log10(v/bigramCount) for k, v in esDict.items()}\n",
    "    if 'eu' in key:\n",
    "        for eachTweet in value:\n",
    "            for i in range(len(eachTweet)-1):\n",
    "                first = eachTweet[i]\n",
    "                second = eachTweet[i+1]\n",
    "                if ((not first.isspace()) and (not second.isspace())):\n",
    "                    bigram = first + second\n",
    "                    if bigram in euDict:\n",
    "                        count = euDict[bigram]\n",
    "                        count += 1\n",
    "                        euDict[bigram] = count\n",
    "                        bigramCount += 1\n",
    "                    else:\n",
    "                        euDict[bigram] = 1\n",
    "                        bigramCount += 1\n",
    "        euDict = {k: math.log10(v/bigramCount) for k, v in euDict.items()}\n",
    "    if 'ca' in key:\n",
    "        for eachTweet in value:\n",
    "            for i in range(len(eachTweet)-1):\n",
    "                first = eachTweet[i]\n",
    "                second = eachTweet[i+1]\n",
    "                if ((not first.isspace()) and (not second.isspace())):\n",
    "                    bigram = first + second\n",
    "                    if bigram in caDict:\n",
    "                        count = caDict[bigram]\n",
    "                        count += 1\n",
    "                        caDict[bigram] = count\n",
    "                        bigramCount += 1\n",
    "                    else:\n",
    "                        caDict[bigram] = 1\n",
    "                        bigramCount += 1\n",
    "        caDict = {k: math.log(v/bigramCount) for k, v in caDict.items()}\n"
   ]
  },
  {
   "cell_type": "code",
   "execution_count": null,
   "metadata": {},
   "outputs": [],
   "source": [
    "print(len(enDict.keys()))"
   ]
  },
  {
   "cell_type": "code",
   "execution_count": null,
   "metadata": {},
   "outputs": [],
   "source": []
  }
 ],
 "metadata": {
  "kernelspec": {
   "display_name": "Python 3",
   "language": "python",
   "name": "python3"
  },
  "language_info": {
   "codemirror_mode": {
    "name": "ipython",
    "version": 3
   },
   "file_extension": ".py",
   "mimetype": "text/x-python",
   "name": "python",
   "nbconvert_exporter": "python",
   "pygments_lexer": "ipython3",
   "version": "3.7.4"
  }
 },
 "nbformat": 4,
 "nbformat_minor": 2
}
