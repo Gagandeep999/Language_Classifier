{
 "cells": [
  {
   "cell_type": "code",
   "execution_count": null,
   "metadata": {},
   "outputs": [],
   "source": [
    "import pandas as pd\n",
    "df = pd.read_csv('../OriginalDataSet/training-tweets.txt', encoding='utf-8', error_bad_lines=False, sep='\\t', warn_bad_lines=False) #nrows=5000,\n",
    "df.columns = ['TweetID', 'UserID', 'Language', \"Tweet\"]\n",
    "_df = df[['Language', 'Tweet']].copy()"
   ]
  },
  {
   "cell_type": "code",
   "execution_count": null,
   "metadata": {},
   "outputs": [],
   "source": [
    "_df.head()"
   ]
  },
  {
   "cell_type": "code",
   "execution_count": null,
   "metadata": {},
   "outputs": [],
   "source": [
    "def hasNumbers(s):\n",
    "    for character in s:\n",
    "        if character.isdigit():\n",
    "            return True\n",
    "    return False\n",
    "\n",
    "df = pd.DataFrame(columns=_df.columns.values)\n",
    "\n",
    "for index, row in _df.iterrows():\n",
    "#     print(index)\n",
    "#     print(row)\n",
    "    tweet = row[\"Tweet\"]\n",
    "    language = row[\"Language\"]\n",
    "    sentence = \"\"\n",
    "    for word in tweet.split():\n",
    "        if (\"#\" in word) or (\"@\" in word) or (\"//\" in word) or (hasNumbers(word)):\n",
    "            sentence = sentence\n",
    "        else:\n",
    "            sentence += \" \"\n",
    "            sentence += word\n",
    "    df.at[index, 'Language'] = language\n",
    "    df.at[index, 'Tweet'] = sentence"
   ]
  },
  {
   "cell_type": "code",
   "execution_count": null,
   "metadata": {},
   "outputs": [],
   "source": [
    "df.head()"
   ]
  },
  {
   "cell_type": "code",
   "execution_count": null,
   "metadata": {},
   "outputs": [],
   "source": []
  }
 ],
 "metadata": {
  "kernelspec": {
   "display_name": "Python 3",
   "language": "python",
   "name": "python3"
  },
  "language_info": {
   "codemirror_mode": {
    "name": "ipython",
    "version": 3
   },
   "file_extension": ".py",
   "mimetype": "text/x-python",
   "name": "python",
   "nbconvert_exporter": "python",
   "pygments_lexer": "ipython3",
   "version": "3.7.4"
  }
 },
 "nbformat": 4,
 "nbformat_minor": 2
}
