{
 "cells": [
  {
   "cell_type": "code",
   "execution_count": 77,
   "metadata": {},
   "outputs": [],
   "source": [
    "import numpy as np\n",
    "import matplotlib.pyplot as plt"
   ]
  },
  {
   "cell_type": "code",
   "execution_count": 78,
   "metadata": {},
   "outputs": [],
   "source": [
    "alphabets = {'a'  :  0,\n",
    "'n'  :  1,\n",
    "'d'  :  2,\n",
    "'e'  :  3,\n",
    "'r'  :  4,\n",
    "'u'  :  5,\n",
    "'i'  :  6,\n",
    "'z'  :  7,\n",
    "'b'  :  8,\n",
    "'k'  :  9,\n",
    "'t'  :  10,\n",
    "'o'  :  11,\n",
    "'l'  :  12,\n",
    "'p'  :  13,\n",
    "'x'  :  14,\n",
    "'m'  :  15,\n",
    "'h'  :  16,\n",
    "'j'  :  17,\n",
    "'s'  :  18,\n",
    "'g'  :  19,\n",
    "'y'  :  20,\n",
    "'v'  :  21,\n",
    "'f'  :  22,\n",
    "'c'  :  23,\n",
    "'w'  :  24,\n",
    "'q'  :  25}"
   ]
  },
  {
   "cell_type": "code",
   "execution_count": 79,
   "metadata": {},
   "outputs": [],
   "source": [
    "model = [-1.1474577199, -1.5226822578, -1.5181832136,-1.1028872100,-1.2224302510,-1.7349334636,-1.4822284769,-1.2149906355,-0.9775052129,-1.5420452320,-1.7042489353,-1.3770794644,-1.0711750682,-1.0499167676,-1.2826222401,-1.3283706960,-1.9614147316,-1.6055821172,-1.6008189494,-1.5726527858,-2.5523629214,-2.2213697023,-1.8946343064,-1.6792226471,-1.8521840242,-2.3638410919, -5.0102448172]\n",
    "newModel = []"
   ]
  },
  {
   "cell_type": "code",
   "execution_count": 80,
   "metadata": {},
   "outputs": [],
   "source": [
    "dictA = {\n",
    "'a':0,\n",
    "'b':1,\n",
    "'c':2,\n",
    "'d':3,\n",
    "'e':4,\n",
    "'f':5,\n",
    "'g':6,\n",
    "'h':7,\n",
    "'i':8,\n",
    "'j':9,\n",
    "'k':10,\n",
    "'l':11,\n",
    "'m':12,\n",
    "'n':13,\n",
    "'o':14,\n",
    "'p':15,\n",
    "'q':16,\n",
    "'r':17,\n",
    "'s':18,\n",
    "'t':19,\n",
    "'u':20,\n",
    "'v':21,\n",
    "'w':22,\n",
    "'x':23,\n",
    "'y':24,\n",
    "'z':25 }"
   ]
  },
  {
   "cell_type": "code",
   "execution_count": 81,
   "metadata": {},
   "outputs": [],
   "source": [
    "for key, value in dictA.items():\n",
    "    index = alphabets[key]\n",
    "    newModel.append(model[index])"
   ]
  },
  {
   "cell_type": "code",
   "execution_count": 82,
   "metadata": {},
   "outputs": [
    {
     "name": "stdout",
     "output_type": "stream",
     "text": [
      "(26,)\n",
      "(26,)\n"
     ]
    }
   ],
   "source": [
    "x = np.asarray(list(dictA.values()))\n",
    "# x = np.append(x, (x.shape[0]))\n",
    "y = np.asarray(newModel)\n",
    "print(x.shape)\n",
    "print(y.shape)"
   ]
  },
  {
   "cell_type": "code",
   "execution_count": 83,
   "metadata": {},
   "outputs": [
    {
     "data": {
      "image/png": "[encoded data removed]",
      "text/plain": [
       "<Figure size 1080x216 with 1 Axes>"
      ]
     },
     "metadata": {
      "needs_background": "light"
     },
     "output_type": "display_data"
    }
   ],
   "source": [
    "fig = plt.figure()\n",
    "fig.set_size_inches(15, 3)\n",
    "# area = 50\n",
    "# colors = np.random.rand(x.shape[0])\n",
    "plt.title('enModel')\n",
    "plt.xlabel('Alphabets')\n",
    "plt.ylabel('Probability of alphabet')\n",
    "plt.scatter(x, y, alpha=0.9, marker='+')\n",
    "# plt.scatter(x, y2, alpha=0.7, marker='*')\n",
    "plt.xticks(x, list(dict0.keys()))\n",
    "plt.tick_params(axis='x', which='minor', labelsize=10, width = 5)"
   ]
  },
  {
   "cell_type": "code",
   "execution_count": null,
   "metadata": {},
   "outputs": [],
   "source": []
  },
  {
   "cell_type": "code",
   "execution_count": null,
   "metadata": {},
   "outputs": [],
   "source": []
  },
  {
   "cell_type": "code",
   "execution_count": null,
   "metadata": {},
   "outputs": [],
   "source": []
  }
 ],
 "metadata": {
  "kernelspec": {
   "display_name": "Python 3",
   "language": "python",
   "name": "python3"
  },
  "language_info": {
   "codemirror_mode": {
    "name": "ipython",
    "version": 3
   },
   "file_extension": ".py",
   "mimetype": "text/x-python",
   "name": "python",
   "nbconvert_exporter": "python",
   "pygments_lexer": "ipython3",
   "version": "3.7.4"
  }
 },
 "nbformat": 4,
 "nbformat_minor": 2
}
