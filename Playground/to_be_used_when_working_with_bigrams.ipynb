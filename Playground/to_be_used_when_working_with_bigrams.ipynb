{
 "cells": [
  {
   "cell_type": "code",
   "execution_count": null,
   "metadata": {},
   "outputs": [],
   "source": [
    "# You can do it mathematically as enter image description here.\n",
    "\n",
    "# Here, E is your original matrix and D is a diagonal matrix where each entry is the sum of the corresponding row in E. If you're lucky enough to have an invertible D, this is a pretty mathematically convenient way to do things.\n",
    "\n",
    "# In numpy:\n",
    "\n",
    "import numpy as np\n",
    "\n",
    "diagonal_entries = [sum(e[row]) for row in range(e.shape[0])]\n",
    "D = np.diag(diagonal_entries)\n",
    "D_inv = np.linalg.inv(D)\n",
    "e = np.dot(e, D_inv)"
   ]
  }
 ],
 "metadata": {
  "kernelspec": {
   "display_name": "Python 3",
   "language": "python",
   "name": "python3"
  },
  "language_info": {
   "codemirror_mode": {
    "name": "ipython",
    "version": 3
   },
   "file_extension": ".py",
   "mimetype": "text/x-python",
   "name": "python",
   "nbconvert_exporter": "python",
   "pygments_lexer": "ipython3",
   "version": "3.7.4"
  }
 },
 "nbformat": 4,
 "nbformat_minor": 2
}
