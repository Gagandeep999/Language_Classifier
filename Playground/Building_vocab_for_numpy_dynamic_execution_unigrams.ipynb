{
 "cells": [
  {
   "cell_type": "code",
   "execution_count": 53,
   "metadata": {},
   "outputs": [
    {
     "name": "stdout",
     "output_type": "stream",
     "text": [
      "numpy:  1.17.2\n",
      "pandas:  1.0.3\n"
     ]
    }
   ],
   "source": [
    "from collections import defaultdict\n",
    "import math\n",
    "import pandas as pd\n",
    "import re\n",
    "from datetime import datetime \n",
    "import numpy as np\n",
    "print('numpy: ',np.version.version)\n",
    "print('pandas: ',pd.__version__)\n",
    "languages = ['en', 'es', 'eu', 'ca', 'pt', 'gl']"
   ]
  },
  {
   "cell_type": "code",
   "execution_count": 54,
   "metadata": {},
   "outputs": [
    {
     "name": "stderr",
     "output_type": "stream",
     "text": [
      "b'Skipping line 17: expected 4 fields, saw 5\\nSkipping line 33: expected 4 fields, saw 5\\nSkipping line 44: expected 4 fields, saw 5\\nSkipping line 58: expected 4 fields, saw 5\\nSkipping line 61: expected 4 fields, saw 5\\nSkipping line 64: expected 4 fields, saw 5\\nSkipping line 74: expected 4 fields, saw 5\\nSkipping line 91: expected 4 fields, saw 5\\nSkipping line 99: expected 4 fields, saw 5\\nSkipping line 140: expected 4 fields, saw 5\\nSkipping line 145: expected 4 fields, saw 5\\nSkipping line 148: expected 4 fields, saw 5\\nSkipping line 152: expected 4 fields, saw 5\\nSkipping line 171: expected 4 fields, saw 5\\nSkipping line 178: expected 4 fields, saw 5\\nSkipping line 197: expected 4 fields, saw 5\\nSkipping line 201: expected 4 fields, saw 5\\nSkipping line 203: expected 4 fields, saw 5\\nSkipping line 213: expected 4 fields, saw 5\\nSkipping line 216: expected 4 fields, saw 5\\n'\n"
     ]
    }
   ],
   "source": [
    "df = pd.read_csv('../OriginalDataSet/training-tweets.txt', encoding='utf-8', error_bad_lines=False, sep='\\t', nrows=10000)\n",
    "df.columns = ['TweetID', 'UserID', 'Language', \"Tweet\"]"
   ]
  },
  {
   "cell_type": "code",
   "execution_count": 55,
   "metadata": {},
   "outputs": [
    {
     "data": {
      "text/html": [
       "<div>\n",
       "<style scoped>\n",
       "    .dataframe tbody tr th:only-of-type {\n",
       "        vertical-align: middle;\n",
       "    }\n",
       "\n",
       "    .dataframe tbody tr th {\n",
       "        vertical-align: top;\n",
       "    }\n",
       "\n",
       "    .dataframe thead th {\n",
       "        text-align: right;\n",
       "    }\n",
       "</style>\n",
       "<table border=\"1\" class=\"dataframe\">\n",
       "  <thead>\n",
       "    <tr style=\"text-align: right;\">\n",
       "      <th></th>\n",
       "      <th>Language</th>\n",
       "      <th>Tweet</th>\n",
       "    </tr>\n",
       "  </thead>\n",
       "  <tbody>\n",
       "    <tr>\n",
       "      <th>0</th>\n",
       "      <td>es</td>\n",
       "      <td>Pedazo de tarta k me e kurrao!!!! Ske k buena ...</td>\n",
       "    </tr>\n",
       "    <tr>\n",
       "      <th>1</th>\n",
       "      <td>es</td>\n",
       "      <td>No hace falta que te digan que vas a morir par...</td>\n",
       "    </tr>\n",
       "    <tr>\n",
       "      <th>2</th>\n",
       "      <td>es</td>\n",
       "      <td>Empieza mi findeeeee :))))</td>\n",
       "    </tr>\n",
       "    <tr>\n",
       "      <th>3</th>\n",
       "      <td>es</td>\n",
       "      <td>Próxima parada: Carnaval del Toro de Ciudad Ro...</td>\n",
       "    </tr>\n",
       "    <tr>\n",
       "      <th>4</th>\n",
       "      <td>es</td>\n",
       "      <td>Graniza y tal.</td>\n",
       "    </tr>\n",
       "  </tbody>\n",
       "</table>\n",
       "</div>"
      ],
      "text/plain": [
       "  Language                                              Tweet\n",
       "0       es  Pedazo de tarta k me e kurrao!!!! Ske k buena ...\n",
       "1       es  No hace falta que te digan que vas a morir par...\n",
       "2       es                         Empieza mi findeeeee :))))\n",
       "3       es  Próxima parada: Carnaval del Toro de Ciudad Ro...\n",
       "4       es                                     Graniza y tal."
      ]
     },
     "execution_count": 55,
     "metadata": {},
     "output_type": "execute_result"
    }
   ],
   "source": [
    "_df0 = df[['Language', 'Tweet']].copy()\n",
    "pattern = re.compile('[ ]')\n",
    "_df0.head()"
   ]
  },
  {
   "cell_type": "code",
   "execution_count": 56,
   "metadata": {},
   "outputs": [],
   "source": [
    "for language in languages:\n",
    "    exec(\"%sAlphabets={}\" % (language))\n",
    "    exec ('{0}Size = 0'.format(language))"
   ]
  },
  {
   "cell_type": "code",
   "execution_count": 57,
   "metadata": {},
   "outputs": [
    {
     "name": "stdout",
     "output_type": "stream",
     "text": [
      "Reading time (hh:mm:ss.ms) 0:00:16.704702\n"
     ]
    }
   ],
   "source": [
    "start_time = datetime.now() \n",
    "trainDict = defaultdict(list)\n",
    "for index, row in _df0.iterrows():\n",
    "    sentence = ''\n",
    "    tweet = row['Tweet']\n",
    "    language = row['Language']\n",
    "    for letter in tweet:\n",
    "        if letter.isalpha() or pattern.match(letter):\n",
    "            exec('if \\'{0}\\' not in {1}Alphabets.keys():\\n\\\n",
    "                     {2}Alphabets[letter] = {3}Size\\n\\\n",
    "                     {4}Size += 1'.format(letter, language, language, language, language))\n",
    "            sentence = sentence + letter\n",
    "    trainDict[row['Language']].append(sentence)\n",
    "print('Reading time (hh:mm:ss.ms) {}'.format(datetime.now() - start_time ))"
   ]
  },
  {
   "cell_type": "code",
   "execution_count": 58,
   "metadata": {},
   "outputs": [],
   "source": [
    "# print(enSize)\n",
    "# print(enAlphabets)\n",
    "# print(esSize)\n",
    "# print(esAlphabets)\n",
    "# print(euSize)\n",
    "# print(euAlphabets)\n",
    "# print(caSize)\n",
    "# print(caAlphabets)\n",
    "# print(ptSize)\n",
    "# print(ptAlphabets)\n",
    "# print(glSize)\n",
    "# print(glAlphabets)"
   ]
  },
  {
   "cell_type": "code",
   "execution_count": 59,
   "metadata": {},
   "outputs": [],
   "source": [
    "for language in languages:\n",
    "    exec(\"%sModel=np.zeros(%sSize+1)\" %(language, language))\n",
    "#     exec(\"%sCount=0\" %(language))\n",
    "#     exec(\"%sEachWordCount=dict.fromkeys(%sAlphabets, 0)\" %(language, language)) #needed for bigrams"
   ]
  },
  {
   "cell_type": "code",
   "execution_count": 60,
   "metadata": {},
   "outputs": [
    {
     "name": "stdout",
     "output_type": "stream",
     "text": [
      "EN [0. 0. 0. 0. 0. 0. 0. 0. 0. 0. 0. 0. 0. 0. 0. 0. 0. 0. 0. 0. 0. 0. 0. 0.\n",
      " 0. 0. 0. 0. 0. 0. 0. 0. 0. 0. 0. 0. 0. 0. 0. 0. 0. 0. 0. 0. 0. 0. 0. 0.\n",
      " 0. 0. 0. 0. 0. 0. 0. 0. 0. 0. 0. 0. 0. 0. 0. 0. 0. 0. 0. 0. 0. 0. 0. 0.\n",
      " 0. 0. 0. 0.] (76,)\n",
      "ES [0. 0. 0. 0. 0. 0. 0. 0. 0. 0. 0. 0. 0. 0. 0. 0. 0. 0. 0. 0. 0. 0. 0. 0.\n",
      " 0. 0. 0. 0. 0. 0. 0. 0. 0. 0. 0. 0. 0. 0. 0. 0. 0. 0. 0. 0. 0. 0. 0. 0.\n",
      " 0. 0. 0. 0. 0. 0. 0. 0. 0. 0. 0. 0. 0. 0. 0. 0. 0. 0. 0. 0. 0. 0. 0. 0.\n",
      " 0. 0. 0. 0. 0. 0. 0. 0. 0. 0. 0. 0. 0. 0. 0. 0. 0.] (89,)\n",
      "EU [0. 0. 0. 0. 0. 0. 0. 0. 0. 0. 0. 0. 0. 0. 0. 0. 0. 0. 0. 0. 0. 0. 0. 0.\n",
      " 0. 0. 0. 0. 0. 0. 0. 0. 0. 0. 0. 0. 0. 0. 0. 0. 0. 0. 0. 0. 0. 0. 0. 0.\n",
      " 0. 0. 0. 0. 0. 0. 0. 0. 0. 0. 0.] (59,)\n",
      "CA [0. 0. 0. 0. 0. 0. 0. 0. 0. 0. 0. 0. 0. 0. 0. 0. 0. 0. 0. 0. 0. 0. 0. 0.\n",
      " 0. 0. 0. 0. 0. 0. 0. 0. 0. 0. 0. 0. 0. 0. 0. 0. 0. 0. 0. 0. 0. 0. 0. 0.\n",
      " 0. 0. 0. 0. 0. 0. 0. 0. 0. 0. 0. 0. 0. 0. 0. 0. 0. 0. 0. 0. 0. 0. 0. 0.\n",
      " 0. 0. 0.] (75,)\n",
      "PT [0. 0. 0. 0. 0. 0. 0. 0. 0. 0. 0. 0. 0. 0. 0. 0. 0. 0. 0. 0. 0. 0. 0. 0.\n",
      " 0. 0. 0. 0. 0. 0. 0. 0. 0. 0. 0. 0. 0. 0. 0. 0. 0. 0. 0. 0. 0. 0. 0. 0.\n",
      " 0. 0. 0. 0. 0. 0. 0. 0. 0. 0. 0. 0. 0. 0. 0. 0. 0. 0. 0. 0. 0. 0. 0. 0.\n",
      " 0. 0. 0. 0. 0. 0. 0.] (79,)\n",
      "gl [0. 0. 0. 0. 0. 0. 0. 0. 0. 0. 0. 0. 0. 0. 0. 0. 0. 0. 0. 0. 0. 0. 0.] (23,)\n"
     ]
    }
   ],
   "source": [
    "# print('EN',enModel, enModel.shape)\n",
    "# print('ES',esModel, esModel.shape)\n",
    "# print('EU',euModel, euModel.shape)\n",
    "# print('CA',caModel, caModel.shape)\n",
    "# print('PT',ptModel, ptModel.shape)\n",
    "# print('gl',glModel, glModel.shape)"
   ]
  },
  {
   "cell_type": "code",
   "execution_count": 61,
   "metadata": {},
   "outputs": [],
   "source": [
    "# a = dict.fromkeys(a, 0)"
   ]
  },
  {
   "cell_type": "markdown",
   "metadata": {},
   "source": [
    "#### For Unigrams"
   ]
  },
  {
   "cell_type": "code",
   "execution_count": 62,
   "metadata": {},
   "outputs": [
    {
     "name": "stdout",
     "output_type": "stream",
     "text": [
      "Training time (hh:mm:ss.ms) 0:00:23.658155\n"
     ]
    },
    {
     "name": "stderr",
     "output_type": "stream",
     "text": [
      "/Users/Gagandeep/opt/anaconda3/lib/python3.7/site-packages/ipykernel_launcher.py:1: RuntimeWarning: divide by zero encountered in log10\n",
      "  \"\"\"Entry point for launching an IPython kernel.\n"
     ]
    }
   ],
   "source": [
    "start_time = datetime.now()\n",
    "delta = 0.5\n",
    "for language, tweets in trainDict.items():\n",
    "    for tweet in tweets:\n",
    "        for i in range(len(tweet)-1):\n",
    "            first = tweet[i]\n",
    "            exec('index = %sAlphabets[first]'%(language)) #index = esAlphabets[first] #get index of the character from the language dictionary\n",
    "            exec('np.add.at(%sModel, [index], 1)'%(language)) #np.add.at(esModel, [index], 1) #increment that index in the language model\n",
    "for language in languages:\n",
    "    exec('%sModel = %sModel/%sModel.sum()'%(language, language, language)) #divide all the values by the sum of the row\n",
    "    exec('%sModel = np.log10(%sModel)'%(language, language))\n",
    "print('Training time (hh:mm:ss.ms) {}'.format(datetime.now() - start_time ))"
   ]
  },
  {
   "cell_type": "code",
   "execution_count": 63,
   "metadata": {},
   "outputs": [
    {
     "name": "stdout",
     "output_type": "stream",
     "text": [
      "EN [-1.92884562 -2.1975769  -0.80644903 -2.41647126 -2.2428406  -2.32202184\n",
      " -2.43655782 -2.48546758 -1.98049739 -2.02996725 -2.4630474  -2.35481436\n",
      " -2.34222523 -2.12536843 -2.03810416 -2.28969618 -2.14724863 -2.35269066\n",
      " -2.22828188 -1.60148669 -1.3791123  -1.19051983 -1.30593861 -1.35716248\n",
      " -1.73451496 -1.08283616 -1.41256307 -1.1959495  -1.94594284 -1.22024354\n",
      " -1.70160184 -1.73964853 -1.75864864 -1.52330843 -2.31809155 -1.72194042\n",
      " -1.4772059  -1.68081824 -3.17308283 -3.10814202 -2.3811433  -2.33606492\n",
      " -2.11421617 -1.87982723 -2.014137   -1.92804802 -2.62701803 -2.65584435\n",
      " -2.77234992 -2.50910849 -2.9162565  -2.72994607 -2.47131993 -3.76135454\n",
      " -3.88629327 -4.66444452 -3.62305184 -4.18732327 -3.66444452 -4.66444452\n",
      " -3.71020201 -4.18732327 -4.18732327 -4.36341453 -4.66444452 -4.18732327\n",
      " -4.66444452 -4.36341453 -4.66444452 -4.66444452 -4.66444452 -4.66444452\n",
      " -4.66444452 -4.66444452 -4.66444452        -inf] (76,)\n",
      "ES [-2.4202795  -1.01971674 -1.50649391 -1.00166648 -2.37728314 -1.15189576\n",
      " -0.79160094 -1.38976808 -1.32104634 -2.47748577 -1.61322219 -1.50539993\n",
      " -2.37051342 -1.99012998 -1.31557105 -1.31273467 -2.02612232 -1.43086649\n",
      " -1.9148399  -2.00646659 -2.67025356 -2.05375375 -1.68423134 -1.57012022\n",
      " -2.47880984 -2.38469358 -2.26485635 -2.4781473  -3.20162945 -2.46930056\n",
      " -2.05375375 -1.32893288 -2.04038224 -2.23605604 -2.86853988 -2.67387486\n",
      " -2.43411452 -2.46094848 -2.43262158 -2.55706381 -2.36819443 -2.10290201\n",
      " -2.55825638 -2.66158268 -2.64135634 -2.76166043 -2.94286862 -2.80932971\n",
      " -2.75036312 -3.05952269 -3.23624565 -2.84866933 -2.77587967 -4.31732753\n",
      " -3.12625912 -2.53727565 -2.77851576 -2.7135566  -2.93143916 -3.28432727\n",
      " -4.31732753 -4.21586989 -4.59608113 -4.2343533  -4.75098309 -3.99402114\n",
      " -4.89711113 -4.64183862 -4.21586989        -inf -5.29505114 -5.59608113\n",
      " -5.59608113 -5.59608113        -inf -5.59608113 -4.75098309 -5.59608113\n",
      " -5.59608113 -5.59608113 -4.89711113 -5.59608113 -5.59608113 -5.59608113\n",
      " -5.29505114 -5.29505114 -5.59608113 -5.59608113        -inf] (89,)\n",
      "EU [-2.08600114 -1.27332819 -1.66791456 -1.08195827 -1.23867709 -2.55691808\n",
      " -1.35802713 -1.15164804 -1.50392142 -0.92280543 -1.66198958 -0.86484031\n",
      " -1.44869863 -1.17555334 -1.2298854  -1.63241885 -1.85243899 -2.1051643\n",
      " -1.93675987 -1.97616291 -2.72386596 -1.97616291 -2.46558795 -1.67150874\n",
      " -1.7131421  -2.1683181  -2.48082792 -2.8488047  -2.35395468 -2.75189469\n",
      " -2.54777471 -2.75189469 -2.56625811 -2.42283597 -2.62695595 -2.5130126\n",
      " -2.57580343 -2.50474007 -2.25588809 -3.08288791 -2.67271344 -2.75189469\n",
      " -2.57580343 -2.49662218 -2.710502   -3.32592596 -2.81404259 -2.99856702\n",
      " -3.45086469 -3.18762326 -4.22901594 -3.1498347  -3.1498347  -3.02489596\n",
      " -3.32592596 -4.22901594 -4.22901594 -4.22901594        -inf] (59,)\n",
      "CA [-2.63906348 -1.29057652 -1.28987683 -1.06883982 -1.60195241 -2.3064071\n",
      " -1.33229144 -0.81238287 -0.98821808 -2.13862561 -1.29071659 -1.26290682\n",
      " -1.60252649 -1.54984476 -1.32313842 -1.94512155 -1.22601712 -2.35719665\n",
      " -2.08659661 -2.61476095 -1.98550395 -1.90528331 -1.52608256 -2.25187859\n",
      " -1.54984476 -2.39826292 -2.39826292 -1.95665217 -2.98968659 -2.50792043\n",
      " -2.6886566  -2.76088898 -2.36212254 -2.71762029 -2.39468846 -2.67148857\n",
      " -2.84255903 -2.93698024 -2.69217317 -2.59455756 -2.50561648 -2.49204367\n",
      " -2.5779583  -2.38413827 -2.83759561 -2.77775691 -2.53410502 -2.27557325\n",
      " -2.58068116 -2.87359326 -4.18001829 -3.04171559 -2.67827456 -2.80895043\n",
      " -3.03389026 -2.5779583  -3.04171559 -2.52922525 -3.01865029 -3.52680578\n",
      " -3.07450811 -4.00392703 -3.93698024 -3.06607494 -4.18001829 -3.78207828\n",
      " -4.78207828 -4.08310828 -4.08310828 -4.78207828 -4.78207828 -4.48104829\n",
      " -4.78207828 -4.78207828        -inf] (75,)\n",
      "PT [-0.98639506 -1.43673611 -1.38162341 -1.11051922 -1.71224259 -1.25142549\n",
      " -1.47553153 -0.75487083 -2.9422431  -1.31179738 -3.48063401 -1.03725247\n",
      " -2.70468172 -2.73197622 -1.43888255 -1.34333745 -2.59774741 -1.92069113\n",
      " -2.68528073 -1.37249968 -2.62993209 -1.82537912 -1.70468172 -2.60998186\n",
      " -2.23347939 -1.93319497 -1.92984994 -2.41368722 -1.65123276 -2.2011883\n",
      " -2.05614835 -2.03253696 -3.0646495  -2.96976417 -3.8852046  -2.40035744\n",
      " -2.9199667  -2.32890209 -2.71359064 -2.62623594 -2.83183061 -2.39492189\n",
      " -2.34981309 -2.69379658 -3.72039435 -2.81162723 -2.5337651  -3.33639012\n",
      " -2.81445652 -2.9460695  -3.14181545 -2.70911334 -2.46639357 -3.60120794\n",
      " -3.030665   -3.21381811 -3.52202669 -2.96572419 -4.09605796 -2.9199667\n",
      " -3.15404991 -3.30895187 -2.78696034 -3.63742011 -3.40808334 -4.99914795\n",
      " -4.69811795 -3.95775526 -4.69811795 -3.95775526 -4.99914795 -3.95775526\n",
      " -4.52202669 -4.52202669 -4.99914795 -4.52202669 -4.99914795 -4.99914795\n",
      "        -inf] (79,)\n",
      "gl [-1.79239169 -1.1903317  -1.31527043 -1.49136169 -0.79239169 -1.09342169\n",
      " -0.71321044 -1.79239169 -1.31527043 -1.79239169 -1.79239169 -1.31527043\n",
      " -1.79239169 -1.79239169 -1.79239169 -1.79239169 -1.31527043 -1.49136169\n",
      " -1.49136169 -1.31527043 -1.79239169 -1.79239169        -inf] (23,)\n"
     ]
    }
   ],
   "source": [
    "print('EN',enModel, enModel.shape)\n",
    "print('ES',esModel, esModel.shape)\n",
    "print('EU',euModel, euModel.shape)\n",
    "print('CA',caModel, caModel.shape)\n",
    "print('PT',ptModel, ptModel.shape)\n",
    "print('gl',glModel, glModel.shape)"
   ]
  },
  {
   "cell_type": "code",
   "execution_count": null,
   "metadata": {},
   "outputs": [],
   "source": [
    "# glSum = glModel.sum()\n",
    "# ptSum = ptModel.sum()\n",
    "# caSum = caModel.sum()\n",
    "# euSum = euModel.sum()\n",
    "# esSum = esModel.sum()\n",
    "# enSum = enModel.sum()"
   ]
  },
  {
   "cell_type": "code",
   "execution_count": null,
   "metadata": {},
   "outputs": [],
   "source": [
    "# print('enSum', enSum ,'\\nesSum', esSum ,'\\neuSum', euSum ,'\\ncaSum', caSum ,'\\nptSum', ptSum, '\\nglSum', glSum)"
   ]
  }
 ],
 "metadata": {
  "kernelspec": {
   "display_name": "Python 3",
   "language": "python",
   "name": "python3"
  },
  "language_info": {
   "codemirror_mode": {
    "name": "ipython",
    "version": 3
   },
   "file_extension": ".py",
   "mimetype": "text/x-python",
   "name": "python",
   "nbconvert_exporter": "python",
   "pygments_lexer": "ipython3",
   "version": "3.7.4"
  }
 },
 "nbformat": 4,
 "nbformat_minor": 2
}
